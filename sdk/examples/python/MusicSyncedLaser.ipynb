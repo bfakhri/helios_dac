{
 "cells": [
  {
   "cell_type": "code",
   "execution_count": 3,
   "metadata": {},
   "outputs": [],
   "source": [
    "import laser_lib\n",
    "import numpy as np\n",
    "import math\n",
    "import time\n"
   ]
  },
  {
   "cell_type": "code",
   "execution_count": 4,
   "metadata": {},
   "outputs": [
    {
     "name": "stdout",
     "output_type": "stream",
     "text": [
      "Found  1 Helios DACs\n"
     ]
    }
   ],
   "source": [
    "queue = laser_lib.DacQueue()"
   ]
  },
  {
   "cell_type": "code",
   "execution_count": 13,
   "metadata": {},
   "outputs": [],
   "source": [
    "def calculate_sample_energy(sample):\n",
    "    # Calculate the energy of the sample\n",
    "    energy = np.sum(np.square(sample))\n",
    "    return energy\n",
    "\n",
    "def energy_wave(sample):\n",
    "    # Calculate the energy of the sample\n",
    "    energy = np.sum(np.square(sample))\n",
    "    return energy\n",
    "\n",
    "def stream_bytes_to_numpy(data, num_channels):\n",
    "     # Convert bytes to a NumPy array of floats\n",
    "    audio_data = np.frombuffer(data, dtype=np.int16)\n",
    "    \n",
    "    # Normalize the audio data to the range [-1, 1]\n",
    "    audio_data = audio_data.astype(np.float32) / np.iinfo(np.int16).max\n",
    "    \n",
    "    # Reshape the data to have one row per channel\n",
    "    audio_data = audio_data.reshape(-1, num_channels)\n",
    "\n",
    "    return audio_data"
   ]
  },
  {
   "cell_type": "code",
   "execution_count": 6,
   "metadata": {},
   "outputs": [
    {
     "name": "stdout",
     "output_type": "stream",
     "text": [
      "4096\n",
      "(1024, 2)\n"
     ]
    },
    {
     "name": "stderr",
     "output_type": "stream",
     "text": [
      "ALSA lib pcm_dsnoop.c:601:(snd_pcm_dsnoop_open) unable to open slave\n",
      "ALSA lib pcm_dmix.c:1032:(snd_pcm_dmix_open) unable to open slave\n",
      "ALSA lib pcm.c:2664:(snd_pcm_open_noupdate) Unknown PCM cards.pcm.rear\n",
      "ALSA lib pcm.c:2664:(snd_pcm_open_noupdate) Unknown PCM cards.pcm.center_lfe\n",
      "ALSA lib pcm.c:2664:(snd_pcm_open_noupdate) Unknown PCM cards.pcm.side\n",
      "ALSA lib pcm_oss.c:397:(_snd_pcm_oss_open) Cannot open device /dev/dsp\n",
      "ALSA lib pcm_oss.c:397:(_snd_pcm_oss_open) Cannot open device /dev/dsp\n",
      "ALSA lib confmisc.c:160:(snd_config_get_card) Invalid field card\n",
      "ALSA lib pcm_usb_stream.c:482:(_snd_pcm_usb_stream_open) Invalid card 'card'\n",
      "ALSA lib confmisc.c:160:(snd_config_get_card) Invalid field card\n",
      "ALSA lib pcm_usb_stream.c:482:(_snd_pcm_usb_stream_open) Invalid card 'card'\n",
      "ALSA lib pcm_dmix.c:1032:(snd_pcm_dmix_open) unable to open slave\n"
     ]
    }
   ],
   "source": []
  },
  {
   "cell_type": "code",
   "execution_count": null,
   "metadata": {},
   "outputs": [],
   "source": [
    "# Integrate the music with the laser\n",
    "import wave\n",
    "import pyaudio\n",
    "\n",
    "T = 200 # at 30kpps this is 30x a second\n",
    "color_arr = np.ones((T,3))\n",
    "theta = np.linspace(0, 2*np.pi, T)\n",
    "freq = 2\n",
    "pos_arr = np.zeros((T, 2))\n",
    "pos_arr[:, 0] = np.cos(freq*theta)\n",
    "pos_arr[:, 1] = np.sin(freq*theta)\n",
    "\n",
    "def play_audio_file(file_path, chunk_size=2*1024):\n",
    "    wf = wave.open(file_path, 'rb')\n",
    "    p = pyaudio.PyAudio()\n",
    "\n",
    "    num_channels = wf.getnchannels()\n",
    "    # Open output stream\n",
    "    stream = p.open(format=p.get_format_from_width(wf.getsampwidth()),\n",
    "                    channels=num_channels,\n",
    "                    rate=wf.getframerate(),\n",
    "                    output=True)\n",
    "\n",
    "    data = wf.readframes(chunk_size)\n",
    "\n",
    "\n",
    "    max_energy = 0\n",
    "    # Play the file chunk by chunk\n",
    "    while data:\n",
    "        stream.write(data)\n",
    "        data = wf.readframes(chunk_size)\n",
    "        energy = calculate_sample_energy(stream_bytes_to_numpy(data, num_channels))\n",
    "        if(energy > max_energy):\n",
    "            max_energy = energy\n",
    "        energy_normed = energy/max_energy\n",
    "        queue.submit(energy_normed*pos_arr, color_arr, debug=False)\n",
    "        \n",
    "\n",
    "    # Close the stream and terminate PyAudio\n",
    "    stream.close()\n",
    "    p.terminate()\n",
    "\n",
    "file_path = \"PurpleSun.wav\"\n",
    "play_audio_file(file_path)\n"
   ]
  },
  {
   "cell_type": "code",
   "execution_count": null,
   "metadata": {},
   "outputs": [],
   "source": []
  },
  {
   "cell_type": "code",
   "execution_count": null,
   "metadata": {},
   "outputs": [],
   "source": []
  },
  {
   "cell_type": "code",
   "execution_count": null,
   "metadata": {},
   "outputs": [],
   "source": []
  },
  {
   "cell_type": "code",
   "execution_count": null,
   "metadata": {},
   "outputs": [],
   "source": [
    "# Play music chunk by chunk\n",
    "import wave\n",
    "import pyaudio\n",
    "\n",
    "def play_audio_file(file_path, chunk_size=1024):\n",
    "    wf = wave.open(file_path, 'rb')\n",
    "    p = pyaudio.PyAudio()\n",
    "\n",
    "    num_channels = wf.getnchannels()\n",
    "    # Open output stream\n",
    "    stream = p.open(format=p.get_format_from_width(wf.getsampwidth()),\n",
    "                    channels=num_channels,\n",
    "                    rate=wf.getframerate(),\n",
    "                    output=True)\n",
    "\n",
    "    data = wf.readframes(chunk_size)\n",
    "\n",
    "        # Convert bytes to a NumPy array of floats\n",
    "    audio_data = np.frombuffer(data, dtype=np.int16)\n",
    "    \n",
    "    # Normalize the audio data to the range [-1, 1]\n",
    "    audio_data = audio_data.astype(np.float32) / np.iinfo(np.int16).max\n",
    "    \n",
    "    # Reshape the data to have one row per channel\n",
    "    audio_data = audio_data.reshape(-1, num_channels)\n",
    "\n",
    "    print(len(data))\n",
    "    print(audio_data.shape)\n",
    "    return\n",
    "\n",
    "    # Play the file chunk by chunk\n",
    "    while data:\n",
    "        stream.write(data)\n",
    "        data = wf.readframes(chunk_size)\n",
    "\n",
    "    # Close the stream and terminate PyAudio\n",
    "    stream.close()\n",
    "    p.terminate()\n",
    "\n",
    "file_path = \"PurpleSun.wav\"\n",
    "play_audio_file(file_path)\n"
   ]
  }
 ],
 "metadata": {
  "kernelspec": {
   "display_name": "Python 3 (ipykernel)",
   "language": "python",
   "name": "python3"
  },
  "language_info": {
   "codemirror_mode": {
    "name": "ipython",
    "version": 3
   },
   "file_extension": ".py",
   "mimetype": "text/x-python",
   "name": "python",
   "nbconvert_exporter": "python",
   "pygments_lexer": "ipython3",
   "version": "3.11.9"
  }
 },
 "nbformat": 4,
 "nbformat_minor": 4
}
