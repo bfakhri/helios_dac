{
 "cells": [
  {
   "cell_type": "code",
   "execution_count": 1,
   "metadata": {},
   "outputs": [
    {
     "name": "stdout",
     "output_type": "stream",
     "text": [
      "Found  1 Helios DACs\n"
     ]
    }
   ],
   "source": [
    "import ctypes\n",
    "import numpy as np\n",
    "import math\n",
    "import time\n",
    "\n",
    "#Define point structure\n",
    "class HeliosPoint(ctypes.Structure):\n",
    "    #_pack_=1\n",
    "    _fields_ = [('x', ctypes.c_uint16),\n",
    "                ('y', ctypes.c_uint16),\n",
    "                ('r', ctypes.c_uint8),\n",
    "                ('g', ctypes.c_uint8),\n",
    "                ('b', ctypes.c_uint8),\n",
    "                ('i', ctypes.c_uint8)]\n",
    "class Dac:\n",
    "    def __init__(self):\n",
    "        #Load and initialize library\n",
    "        self.HeliosLib = ctypes.cdll.LoadLibrary(\"./libHeliosDacAPI.so\")\n",
    "        self.num_devices = self.HeliosLib.OpenDevices()\n",
    "        print(\"Found \", self.num_devices, \"Helios DACs\")\n",
    "        # Define limits\n",
    "        self.xy_max = int(2**12-1)\n",
    "\n",
    "dac = Dac()\n",
    "\n",
    "\n"
   ]
  },
  {
   "cell_type": "code",
   "execution_count": 171,
   "metadata": {},
   "outputs": [],
   "source": [
    "# Define update function\n",
    "def dacpos(x, y, r, g, b, lum, dac):\n",
    "    #Constants\n",
    "    dac_rate = 65000 # very low, change to higher\n",
    "    dac_idx = 0\n",
    "    num_points = 1\n",
    "    \n",
    "    # Maps x, y from [-1, 1] to [0, xy_max]\n",
    "    x_dac = int(float((x + 1)/2)*dac.xy_max)\n",
    "    y_dac = int(float((y + 1)/2)*dac.xy_max)\n",
    "    \n",
    "    # Scale the colors by the luminance\n",
    "    r_dac = int(lum*r)\n",
    "    g_dac = int(lum*g)\n",
    "    b_dac = int(lum*b)\n",
    "    # Make frame\n",
    "    frame = HeliosPoint(x_dac, y_dac, r_dac, g_dac, b_dac, 255)\n",
    "    # Post frame\n",
    "    status_attempts = 0\n",
    "    while (status_attempts < 512 and dac.HeliosLib.GetStatus(dac_idx) != 1):\n",
    "        status_attempts += 1\n",
    "        print('Too fast!')\n",
    "    dac.HeliosLib.WriteFrame(dac_idx, dac_rate, 0, ctypes.pointer(frame), num_points)\n",
    "\n",
    "    \n",
    "def color_correction(arr_color):\n",
    "    '''\n",
    "    Corrects the nonlinearities in the color curve \n",
    "    '''\n",
    "    arr_color = np.exp(np.log(2)*np.power(arr_color,2)) - 1\n",
    "    # Scale to the lower cutoff\n",
    "    lower_cutoff = 0.18\n",
    "    arr_color = arr_color*(1.0-lower_cutoff) + lower_cutoff\n",
    "    \n",
    "    \n",
    "    return arr_color\n",
    "\n",
    "def position_corection(arr_pos):\n",
    "    '''\n",
    "    Corrects x-y directions so that (x=-1,y=-1) is bottom left\n",
    "    Scales the entire pattern so that it does not clip (amps are weird)\n",
    "    '''\n",
    "    # Reverse direction of x and y\n",
    "    arr_pos *= -1\n",
    "    \n",
    "    max_scale = 0.75\n",
    "    return arr_pos*max_scale\n",
    "    \n",
    "    \n",
    "    \n",
    "def dacpos_batch(arr_pos, arr_color, dac):\n",
    "    '''\n",
    "    1) Scales and color corrects \n",
    "    2) Converts from unit space to DAC coordinates\n",
    "    3) Produces a DAC compatible frame and displays it\n",
    "    '''\n",
    "    # Scale the pattern \n",
    "    arr_pos = position_corection(arr_pos)\n",
    "    # Format the position array (0-1.0) -> int(0-4095)\n",
    "    arr_pos = (((arr_pos+1)/2.0)*dac.xy_max).astype(np.int32)\n",
    "    \n",
    "    # Perform color correction\n",
    "    arr_color = color_correction(arr_color)\n",
    "    # Format the color array (0-1.0) -> int(0-255)\n",
    "    arr_color = (arr_color*255).astype(np.int32)\n",
    "    # Fill a heliospoint arr with these values\n",
    "    num_points = len(arr_pos)\n",
    "    print('making a frame with ', num_points)\n",
    "    \n",
    "    frameType = HeliosPoint * num_points\n",
    "    frame = frameType()\n",
    "    # Fill the frame\n",
    "    for idx in range(num_points):\n",
    "        frame[idx] =     HeliosPoint(int(arr_pos[idx, 0]), \n",
    "                                     int(arr_pos[idx, 1]), \n",
    "                                     int(arr_color[idx, 0]), \n",
    "                                     int(arr_color[idx, 1]),\n",
    "                                     int(arr_color[idx, 2]),\n",
    "                                     int(255))\n",
    "    # Write the values out \n",
    "    statusAttempts = 0\n",
    "    # Make 512 attempts for DAC status to be ready. After that, just give up and try to write the frame anyway\n",
    "    while (statusAttempts < 512 and dac.HeliosLib.GetStatus(0) != 1):\n",
    "        statusAttempts += 1\n",
    "    dac.HeliosLib.WriteFrame(0, 350, 0, ctypes.pointer(frame), num_points)\n",
    "    \n",
    "    \n",
    "\n",
    "    "
   ]
  },
  {
   "cell_type": "code",
   "execution_count": 172,
   "metadata": {},
   "outputs": [
    {
     "name": "stdout",
     "output_type": "stream",
     "text": [
      "making a frame with  1000\n",
      "hello\n"
     ]
    }
   ],
   "source": [
    "T = 1000\n",
    "theta = np.linspace(0, 2*np.pi, T)\n",
    "pattern = np.zeros((T, 5))\n",
    "pattern[:, 0] = np.cos(theta)\n",
    "pattern[:, 1] = np.sin(theta)\n",
    "pattern[:, 2:5] = np.concatenate([np.linspace(0, 1, T//2)[:,np.newaxis], np.linspace(1, 0, T//2)[:,np.newaxis]])\n",
    "#pattern[:, 4] = 0\n",
    "\n",
    "while(True):\n",
    "    dacpos_batch(pattern[:, 0:2], pattern[:,2:5], dac)\n",
    "    print('hello')\n",
    "    break\n"
   ]
  },
  {
   "cell_type": "code",
   "execution_count": 173,
   "metadata": {},
   "outputs": [
    {
     "name": "stdout",
     "output_type": "stream",
     "text": [
      "making a frame with  1000\n",
      "hello\n"
     ]
    }
   ],
   "source": [
    "T = 1000\n",
    "pattern = np.zeros((T, 5))\n",
    "pattern[:, 0:2] = np.concatenate([np.linspace(-1, 1, T//2)[:,np.newaxis], np.linspace(1, -1, T//2)[:,np.newaxis]])\n",
    "pattern[:, 2:5] = np.concatenate([np.linspace(0, 1, T//2)[:,np.newaxis], np.linspace(1, 0, T//2)[:,np.newaxis]])\n",
    "\n",
    "while(True):\n",
    "    dacpos_batch(pattern[:, 0:2], pattern[:,2:5], dac)\n",
    "    print('hello')\n",
    "    break"
   ]
  },
  {
   "cell_type": "code",
   "execution_count": 174,
   "metadata": {},
   "outputs": [],
   "source": [
    "import cv2\n",
    "def draw_bitmap(arr_pos, arr_color, dims=(400,400)):\n",
    "    '''\n",
    "    Draws a pattern as if we were drawing it on a wall\n",
    "    '''\n",
    "    # Copy the arrays so we don't change them \n",
    "    arr_pos = arr_pos.copy()\n",
    "    arr_color = arr_color.copy()\n",
    "    # Map the positions\n",
    "    arr_pos[:,0] *= -1\n",
    "    arr_pos = (((arr_pos+1)/2)*dims).astype(np.int)\n",
    "    # Map the colors\n",
    "    arr_color = arr_color[:,::-1]\n",
    "    T = len(arr_pos)\n",
    "    img = np.zeros(dims+(3,))\n",
    "    # Draw points\n",
    "    for t in range(1, T):\n",
    "        cv2.line(img, arr_pos[t-1], arr_pos[t], color=arr_color[t-1], thickness=2)\n",
    "    cv2.imshow('img', img)\n",
    "    cv2.waitKey(0)\n",
    "    \n",
    "    "
   ]
  },
  {
   "cell_type": "code",
   "execution_count": 170,
   "metadata": {},
   "outputs": [],
   "source": [
    "draw_bitmap(pattern[:,0:2], pattern[:,2:5])\n"
   ]
  },
  {
   "cell_type": "code",
   "execution_count": 163,
   "metadata": {},
   "outputs": [
    {
     "data": {
      "text/plain": [
       "array([[0.        , 0.        , 0.        ],\n",
       "       [0.00200401, 0.00200401, 0.00200401],\n",
       "       [0.00400802, 0.00400802, 0.00400802],\n",
       "       ...,\n",
       "       [0.00400802, 0.00400802, 0.00400802],\n",
       "       [0.00200401, 0.00200401, 0.00200401],\n",
       "       [0.        , 0.        , 0.        ]])"
      ]
     },
     "execution_count": 163,
     "metadata": {},
     "output_type": "execute_result"
    }
   ],
   "source": [
    "pattern[:, 2:5]"
   ]
  },
  {
   "cell_type": "code",
   "execution_count": null,
   "metadata": {},
   "outputs": [],
   "source": []
  },
  {
   "cell_type": "code",
   "execution_count": null,
   "metadata": {},
   "outputs": [],
   "source": []
  },
  {
   "cell_type": "code",
   "execution_count": null,
   "metadata": {},
   "outputs": [],
   "source": []
  }
 ],
 "metadata": {
  "kernelspec": {
   "display_name": "Python 3",
   "language": "python",
   "name": "python3"
  },
  "language_info": {
   "codemirror_mode": {
    "name": "ipython",
    "version": 3
   },
   "file_extension": ".py",
   "mimetype": "text/x-python",
   "name": "python",
   "nbconvert_exporter": "python",
   "pygments_lexer": "ipython3",
   "version": "3.8.5"
  }
 },
 "nbformat": 4,
 "nbformat_minor": 4
}
