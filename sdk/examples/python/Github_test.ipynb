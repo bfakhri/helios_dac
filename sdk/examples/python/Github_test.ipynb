{
 "cells": [
  {
   "cell_type": "code",
   "execution_count": 1,
   "metadata": {},
   "outputs": [],
   "source": [
    "# Hi Aman!"
   ]
  },
  {
   "cell_type": "code",
   "execution_count": 1,
   "metadata": {},
   "outputs": [],
   "source": [
    "# bitchin"
   ]
  },
  {
   "cell_type": "code",
   "execution_count": 2,
   "metadata": {},
   "outputs": [],
   "source": [
    "# to add a file to Git hub\n",
    "    # Clone code from Git Hub with protected SSH per computer\n",
    "    # Git Clone [copied txt from GitHub]\n",
    "    # Launch file and make changes in Jupyter\n",
    "    # SAVE change in Jupyter\n",
    "    # Git Status to see changes\n",
    "    # Git add [file that's been changed]\n",
    "    # Git Commit -m \"Message here\"\n",
    "    # Git Push (Pushes to repository in hub for both to view.)"
   ]
  },
  {
   "cell_type": "code",
   "execution_count": null,
   "metadata": {},
   "outputs": [],
   "source": []
  }
 ],
 "metadata": {
  "kernelspec": {
   "display_name": "Python 3 (ipykernel)",
   "language": "python",
   "name": "python3"
  },
  "language_info": {
   "codemirror_mode": {
    "name": "ipython",
    "version": 3
   },
   "file_extension": ".py",
   "mimetype": "text/x-python",
   "name": "python",
   "nbconvert_exporter": "python",
   "pygments_lexer": "ipython3",
   "version": "3.9.7"
  }
 },
 "nbformat": 4,
 "nbformat_minor": 4
}
