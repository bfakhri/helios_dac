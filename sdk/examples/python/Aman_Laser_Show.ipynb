{
 "cells": [
  {
   "cell_type": "code",
   "execution_count": 1,
   "metadata": {},
   "outputs": [],
   "source": [
    "import laser_lib\n",
    "import numpy as np\n",
    "import math\n",
    "import time\n",
    "import cv2\n",
    "from skimage.color import rgb2lab, lab2rgb"
   ]
  },
  {
   "cell_type": "code",
   "execution_count": 2,
   "metadata": {},
   "outputs": [
    {
     "name": "stdout",
     "output_type": "stream",
     "text": [
      "Found  1 Helios DACs\n"
     ]
    }
   ],
   "source": [
    "queue = laser_lib.DacQueue()"
   ]
  },
  {
   "cell_type": "code",
   "execution_count": 3,
   "metadata": {},
   "outputs": [],
   "source": [
    "def signer(f, T, phase=0.0):\n",
    "    '''\n",
    "    Produces spaced out points from 0 to 1 whose distance between \n",
    "    consecutive points is sinusoidal \n",
    "    Input:  f - frequency \n",
    "            T - number of samples\n",
    "            phase - phase shift (0, 1)\n",
    "    Returns: x - positions on the line\n",
    "             dx - the derivative of the function of x\n",
    "    '''\n",
    "    # Convert to radians\n",
    "    f = f*2*np.pi\n",
    "    # Generate the baseline \n",
    "    t = np.linspace(0.0+phase, 1.0+phase, T)\n",
    "    # Find points \n",
    "    x = (f*t - np.cos(f*t) + 1)/f\n",
    "    # Calculate derivative\n",
    "    dx = (np.sin(f*t) + 1)/2\n",
    "    \n",
    "    return x, dx\n",
    "\n",
    "def triangle(theta, alpha, sincos='sin'):\n",
    "    '''\n",
    "    Returns a wave between a sine wave and triangle wave depending on alpha\n",
    "    alpha = 0 - sine wave\n",
    "    alpha = 1 - triangle wave\n",
    "    '''\n",
    "    if(sincos == 'sin'):\n",
    "        ps = 0\n",
    "    elif(sincos == 'cos'):\n",
    "        ps = np.pi/2\n",
    "    return alpha*2*np.arcsin(np.sin(theta + ps))/np.pi + (1-alpha)*np.sin(theta + ps)\n",
    "    \n",
    "def ellipser(scale_x=1, scale_y=1, f_x=1, f_y=1, f_s=1000, phase_s=0, sintriang=0, colors=[(1,1,1)], T=500):\n",
    "    '''\n",
    "    Generates a pattern that is a function of ellipses \n",
    "    with parameters that can be interpolated between\n",
    "    '''\n",
    "    theta_norm, theta_dx = signer(f=f_s, phase=phase_s, T=T)\n",
    "    theta = theta_norm*2*np.pi\n",
    "    arr_pos = np.zeros((T, 2))\n",
    "    arr_pos[:,0] = scale_x*triangle(f_x*theta, sintriang, 'sin')\n",
    "    arr_pos[:,1] = scale_y*triangle(f_y*theta, sintriang, 'cos')\n",
    "    \n",
    "    # Color the pattern\n",
    "    arr_col = np.ones((T, 3), np.float32)\n",
    "    if(len(colors) == 1):\n",
    "        # All one color\n",
    "        arr_col[:, :] = colors[0][np.newaxis, :]\n",
    "    if(len(colors) == 2):\n",
    "        # Color based on speed of laser\n",
    "        arr_col[theta_dx > 0.1, :] = colors[0]\n",
    "        arr_col[theta_dx <= 0.1, :] = colors[1]\n",
    "    \n",
    "    return arr_pos, arr_col\n"
   ]
  },
  {
   "cell_type": "markdown",
   "metadata": {},
   "source": [
    "## Concentric, Rotating, Discrete Beam Circles\n"
   ]
  },
  {
   "cell_type": "code",
   "execution_count": 18,
   "metadata": {},
   "outputs": [
    {
     "ename": "KeyboardInterrupt",
     "evalue": "",
     "output_type": "error",
     "traceback": [
      "\u001b[0;31m---------------------------------------------------------------------------\u001b[0m",
      "\u001b[0;31mKeyboardInterrupt\u001b[0m                         Traceback (most recent call last)",
      "\u001b[0;32m<ipython-input-18-bfc3c311b05b>\u001b[0m in \u001b[0;36m<module>\u001b[0;34m\u001b[0m\n\u001b[1;32m     41\u001b[0m     \u001b[0marr_col2\u001b[0m\u001b[0;34m[\u001b[0m\u001b[0marr_pos2\u001b[0m\u001b[0;34m[\u001b[0m\u001b[0;34m:\u001b[0m\u001b[0;34m,\u001b[0m \u001b[0;36m1\u001b[0m\u001b[0;34m]\u001b[0m \u001b[0;34m>\u001b[0m \u001b[0;36m0\u001b[0m\u001b[0;34m]\u001b[0m \u001b[0;34m=\u001b[0m \u001b[0marr_col\u001b[0m\u001b[0;34m[\u001b[0m\u001b[0marr_pos2\u001b[0m\u001b[0;34m[\u001b[0m\u001b[0;34m:\u001b[0m\u001b[0;34m,\u001b[0m \u001b[0;36m1\u001b[0m\u001b[0;34m]\u001b[0m \u001b[0;34m>\u001b[0m \u001b[0;36m0\u001b[0m\u001b[0;34m]\u001b[0m\u001b[0;34m\u001b[0m\u001b[0;34m\u001b[0m\u001b[0m\n\u001b[1;32m     42\u001b[0m     \u001b[0mqueue\u001b[0m\u001b[0;34m.\u001b[0m\u001b[0msubmit\u001b[0m\u001b[0;34m(\u001b[0m\u001b[0;36m0.75\u001b[0m\u001b[0;34m*\u001b[0m\u001b[0marr_pos2\u001b[0m\u001b[0;34m,\u001b[0m \u001b[0marr_col2\u001b[0m\u001b[0;34m)\u001b[0m\u001b[0;34m\u001b[0m\u001b[0;34m\u001b[0m\u001b[0m\n\u001b[0;32m---> 43\u001b[0;31m     \u001b[0mqueue\u001b[0m\u001b[0;34m.\u001b[0m\u001b[0msubmit\u001b[0m\u001b[0;34m(\u001b[0m\u001b[0;36m0.50\u001b[0m\u001b[0;34m*\u001b[0m\u001b[0marr_pos1\u001b[0m\u001b[0;34m,\u001b[0m \u001b[0marr_col1\u001b[0m\u001b[0;34m)\u001b[0m\u001b[0;34m\u001b[0m\u001b[0;34m\u001b[0m\u001b[0m\n\u001b[0m",
      "\u001b[0;32m~/PersonalProjects/helios_dac/sdk/examples/python/laser_lib.py\u001b[0m in \u001b[0;36msubmit\u001b[0;34m(self, pat_pos, pat_col, angular_density, debug)\u001b[0m\n\u001b[1;32m     61\u001b[0m \u001b[0;34m\u001b[0m\u001b[0m\n\u001b[1;32m     62\u001b[0m         \u001b[0;31m# Send the transition pattern to the dac\u001b[0m\u001b[0;34m\u001b[0m\u001b[0;34m\u001b[0m\u001b[0;34m\u001b[0m\u001b[0m\n\u001b[0;32m---> 63\u001b[0;31m         \u001b[0mself\u001b[0m\u001b[0;34m.\u001b[0m\u001b[0mwrite_frames\u001b[0m\u001b[0;34m(\u001b[0m\u001b[0mgap_points\u001b[0m\u001b[0;34m,\u001b[0m \u001b[0mnum_gap_points\u001b[0m\u001b[0;34m,\u001b[0m \u001b[0mdo_not_loop\u001b[0m\u001b[0;34m=\u001b[0m\u001b[0;32mTrue\u001b[0m\u001b[0;34m,\u001b[0m \u001b[0mdebug\u001b[0m\u001b[0;34m=\u001b[0m\u001b[0mdebug\u001b[0m\u001b[0;34m)\u001b[0m\u001b[0;34m\u001b[0m\u001b[0;34m\u001b[0m\u001b[0m\n\u001b[0m\u001b[1;32m     64\u001b[0m         \u001b[0;31m# Send the new pattern to the dac\u001b[0m\u001b[0;34m\u001b[0m\u001b[0;34m\u001b[0m\u001b[0;34m\u001b[0m\u001b[0m\n\u001b[1;32m     65\u001b[0m         \u001b[0mself\u001b[0m\u001b[0;34m.\u001b[0m\u001b[0mwrite_frames\u001b[0m\u001b[0;34m(\u001b[0m\u001b[0mpat_points\u001b[0m\u001b[0;34m,\u001b[0m \u001b[0mnum_pat_points\u001b[0m\u001b[0;34m,\u001b[0m \u001b[0mdo_not_loop\u001b[0m\u001b[0;34m=\u001b[0m\u001b[0;32mTrue\u001b[0m\u001b[0;34m,\u001b[0m \u001b[0mdebug\u001b[0m\u001b[0;34m=\u001b[0m\u001b[0mdebug\u001b[0m\u001b[0;34m)\u001b[0m\u001b[0;34m\u001b[0m\u001b[0;34m\u001b[0m\u001b[0m\n",
      "\u001b[0;32m~/PersonalProjects/helios_dac/sdk/examples/python/laser_lib.py\u001b[0m in \u001b[0;36mwrite_frames\u001b[0;34m(self, points, num_points, do_not_loop, start_immediately, debug)\u001b[0m\n\u001b[1;32m    109\u001b[0m         \u001b[0mmax_attempts\u001b[0m \u001b[0;34m=\u001b[0m \u001b[0mnp\u001b[0m\u001b[0;34m.\u001b[0m\u001b[0minf\u001b[0m\u001b[0;34m\u001b[0m\u001b[0;34m\u001b[0m\u001b[0m\n\u001b[1;32m    110\u001b[0m         \u001b[0;31m# Make 512 attempts for DAC status to be ready. After that, just give up and try to write the frame anyway\u001b[0m\u001b[0;34m\u001b[0m\u001b[0;34m\u001b[0m\u001b[0;34m\u001b[0m\u001b[0m\n\u001b[0;32m--> 111\u001b[0;31m         \u001b[0;32mwhile\u001b[0m\u001b[0;34m(\u001b[0m\u001b[0mstatus_attempts\u001b[0m \u001b[0;34m<\u001b[0m \u001b[0mmax_attempts\u001b[0m \u001b[0;32mand\u001b[0m \u001b[0mself\u001b[0m\u001b[0;34m.\u001b[0m\u001b[0mdac\u001b[0m\u001b[0;34m.\u001b[0m\u001b[0mHeliosLib\u001b[0m\u001b[0;34m.\u001b[0m\u001b[0mGetStatus\u001b[0m\u001b[0;34m(\u001b[0m\u001b[0;36m0\u001b[0m\u001b[0;34m)\u001b[0m \u001b[0;34m!=\u001b[0m \u001b[0;36m1\u001b[0m\u001b[0;34m)\u001b[0m\u001b[0;34m:\u001b[0m\u001b[0;34m\u001b[0m\u001b[0;34m\u001b[0m\u001b[0m\n\u001b[0m\u001b[1;32m    112\u001b[0m             \u001b[0mstatus_attempts\u001b[0m \u001b[0;34m+=\u001b[0m \u001b[0;36m1\u001b[0m\u001b[0;34m\u001b[0m\u001b[0;34m\u001b[0m\u001b[0m\n\u001b[1;32m    113\u001b[0m \u001b[0;34m\u001b[0m\u001b[0m\n",
      "\u001b[0;31mKeyboardInterrupt\u001b[0m: "
     ]
    }
   ],
   "source": [
    "# Start w/ one circle\n",
    "T = 1200\n",
    "colors = [(1, 0, 0), (0, 1, 0), (0, 0, 1)]\n",
    "\n",
    "\n",
    "arr_pos1 = np.zeros((T, 2))\n",
    "arr_pos2 = np.zeros((T, 2))\n",
    "\n",
    "arr_col = np.zeros((T, 3))\n",
    "\n",
    "\n",
    "\n",
    "\n",
    "# Color the \n",
    "num_beams = 20\n",
    "dt = T//num_beams\n",
    "arr_col[0::dt, :] = colors[0]\n",
    "arr_col[20::dt, :] = colors[1]\n",
    "arr_col[40::dt, :] = colors[2]\n",
    "\n",
    "# Lower the dac rate\n",
    "queue.dac_rate = 20000\n",
    "\n",
    "for step in range(1000):\n",
    "    phase = 2*np.pi*step/1000.0\n",
    "    theta1 = np.linspace(phase+0, phase+2*np.pi, T)\n",
    "    theta2 = np.linspace(0-phase, 2*np.pi-phase, T)\n",
    "    \n",
    "    arr_col1 = np.zeros((T, 3))\n",
    "    arr_col2 = np.zeros((T, 3))\n",
    "    \n",
    "    # Pos a circle\n",
    "    arr_pos1[:, 0] = np.cos(theta1)\n",
    "    arr_pos1[:, 1] = np.sin(theta1)\n",
    "    arr_col1[arr_pos1[:, 1] > 0] = arr_col[arr_pos1[:, 1] > 0]\n",
    "    queue.submit(arr_pos1, arr_col1)\n",
    "    \n",
    "    arr_pos2[:, 0] = np.cos(theta2)\n",
    "    arr_pos2[:, 1] = np.sin(theta2)\n",
    "    \n",
    "    arr_col2[arr_pos2[:, 1] > 0] = arr_col[arr_pos2[:, 1] > 0]\n",
    "    queue.submit(0.75*arr_pos2, arr_col2)\n",
    "    queue.submit(0.50*arr_pos1, arr_col1)\n"
   ]
  },
  {
   "cell_type": "markdown",
   "metadata": {},
   "source": [
    "## Concentric circles w/ dwell and blanking"
   ]
  },
  {
   "cell_type": "code",
   "execution_count": 99,
   "metadata": {},
   "outputs": [
    {
     "ename": "KeyboardInterrupt",
     "evalue": "",
     "output_type": "error",
     "traceback": [
      "\u001b[0;31m---------------------------------------------------------------------------\u001b[0m",
      "\u001b[0;31mKeyboardInterrupt\u001b[0m                         Traceback (most recent call last)",
      "\u001b[0;32m<ipython-input-99-5f765d39c101>\u001b[0m in \u001b[0;36m<module>\u001b[0;34m\u001b[0m\n\u001b[1;32m     35\u001b[0m \u001b[0;34m\u001b[0m\u001b[0m\n\u001b[1;32m     36\u001b[0m     \u001b[0mmask\u001b[0m \u001b[0;34m=\u001b[0m \u001b[0mnp\u001b[0m\u001b[0;34m.\u001b[0m\u001b[0mlogical_or\u001b[0m\u001b[0;34m(\u001b[0m\u001b[0mnp\u001b[0m\u001b[0;34m.\u001b[0m\u001b[0mlogical_and\u001b[0m\u001b[0;34m(\u001b[0m\u001b[0mtheta_new\u001b[0m \u001b[0;34m>\u001b[0m \u001b[0mlim1\u001b[0m\u001b[0;34m,\u001b[0m \u001b[0mtheta_new\u001b[0m \u001b[0;34m<\u001b[0m \u001b[0mlim2\u001b[0m\u001b[0;34m)\u001b[0m\u001b[0;34m,\u001b[0m \u001b[0mtheta_new\u001b[0m \u001b[0;34m>\u001b[0m \u001b[0mlim3\u001b[0m\u001b[0;34m)\u001b[0m\u001b[0;34m\u001b[0m\u001b[0;34m\u001b[0m\u001b[0m\n\u001b[0;32m---> 37\u001b[0;31m     \u001b[0mqueue\u001b[0m\u001b[0;34m.\u001b[0m\u001b[0msubmit\u001b[0m\u001b[0;34m(\u001b[0m\u001b[0marr_pos\u001b[0m\u001b[0;34m,\u001b[0m \u001b[0marr_col\u001b[0m\u001b[0;34m*\u001b[0m\u001b[0mmask\u001b[0m\u001b[0;34m[\u001b[0m\u001b[0;34m:\u001b[0m\u001b[0;34m,\u001b[0m \u001b[0mnp\u001b[0m\u001b[0;34m.\u001b[0m\u001b[0mnewaxis\u001b[0m\u001b[0;34m]\u001b[0m\u001b[0;34m)\u001b[0m\u001b[0;34m\u001b[0m\u001b[0;34m\u001b[0m\u001b[0m\n\u001b[0m\u001b[1;32m     38\u001b[0m \u001b[0;34m\u001b[0m\u001b[0m\n\u001b[1;32m     39\u001b[0m     \u001b[0;31m#arr_pos[:, 0] = 0.75*np.cos(theta-phase)\u001b[0m\u001b[0;34m\u001b[0m\u001b[0;34m\u001b[0m\u001b[0;34m\u001b[0m\u001b[0m\n",
      "\u001b[0;32m~/PersonalProjects/helios_dac/sdk/examples/python/laser_lib.py\u001b[0m in \u001b[0;36msubmit\u001b[0;34m(self, pat_pos, pat_col, angular_density, debug)\u001b[0m\n\u001b[1;32m     63\u001b[0m         \u001b[0mself\u001b[0m\u001b[0;34m.\u001b[0m\u001b[0mwrite_frames\u001b[0m\u001b[0;34m(\u001b[0m\u001b[0mgap_points\u001b[0m\u001b[0;34m,\u001b[0m \u001b[0mnum_gap_points\u001b[0m\u001b[0;34m,\u001b[0m \u001b[0mdo_not_loop\u001b[0m\u001b[0;34m=\u001b[0m\u001b[0;32mTrue\u001b[0m\u001b[0;34m,\u001b[0m \u001b[0mdebug\u001b[0m\u001b[0;34m=\u001b[0m\u001b[0mdebug\u001b[0m\u001b[0;34m)\u001b[0m\u001b[0;34m\u001b[0m\u001b[0;34m\u001b[0m\u001b[0m\n\u001b[1;32m     64\u001b[0m         \u001b[0;31m# Send the new pattern to the dac\u001b[0m\u001b[0;34m\u001b[0m\u001b[0;34m\u001b[0m\u001b[0;34m\u001b[0m\u001b[0m\n\u001b[0;32m---> 65\u001b[0;31m         \u001b[0mself\u001b[0m\u001b[0;34m.\u001b[0m\u001b[0mwrite_frames\u001b[0m\u001b[0;34m(\u001b[0m\u001b[0mpat_points\u001b[0m\u001b[0;34m,\u001b[0m \u001b[0mnum_pat_points\u001b[0m\u001b[0;34m,\u001b[0m \u001b[0mdo_not_loop\u001b[0m\u001b[0;34m=\u001b[0m\u001b[0;32mTrue\u001b[0m\u001b[0;34m,\u001b[0m \u001b[0mdebug\u001b[0m\u001b[0;34m=\u001b[0m\u001b[0mdebug\u001b[0m\u001b[0;34m)\u001b[0m\u001b[0;34m\u001b[0m\u001b[0;34m\u001b[0m\u001b[0m\n\u001b[0m\u001b[1;32m     66\u001b[0m         \u001b[0;31m# Set the last_position\u001b[0m\u001b[0;34m\u001b[0m\u001b[0;34m\u001b[0m\u001b[0;34m\u001b[0m\u001b[0m\n\u001b[1;32m     67\u001b[0m         \u001b[0mself\u001b[0m\u001b[0;34m.\u001b[0m\u001b[0mlast_pos\u001b[0m \u001b[0;34m=\u001b[0m \u001b[0mpat_pos\u001b[0m\u001b[0;34m[\u001b[0m\u001b[0;34m-\u001b[0m\u001b[0;36m1\u001b[0m\u001b[0;34m,\u001b[0m \u001b[0;34m:\u001b[0m\u001b[0;34m]\u001b[0m\u001b[0;34m.\u001b[0m\u001b[0mcopy\u001b[0m\u001b[0;34m(\u001b[0m\u001b[0;34m)\u001b[0m\u001b[0;34m\u001b[0m\u001b[0;34m\u001b[0m\u001b[0m\n",
      "\u001b[0;32m~/PersonalProjects/helios_dac/sdk/examples/python/laser_lib.py\u001b[0m in \u001b[0;36mwrite_frames\u001b[0;34m(self, points, num_points, do_not_loop, start_immediately, debug)\u001b[0m\n\u001b[1;32m    109\u001b[0m         \u001b[0mmax_attempts\u001b[0m \u001b[0;34m=\u001b[0m \u001b[0mnp\u001b[0m\u001b[0;34m.\u001b[0m\u001b[0minf\u001b[0m\u001b[0;34m\u001b[0m\u001b[0;34m\u001b[0m\u001b[0m\n\u001b[1;32m    110\u001b[0m         \u001b[0;31m# Make 512 attempts for DAC status to be ready. After that, just give up and try to write the frame anyway\u001b[0m\u001b[0;34m\u001b[0m\u001b[0;34m\u001b[0m\u001b[0;34m\u001b[0m\u001b[0m\n\u001b[0;32m--> 111\u001b[0;31m         \u001b[0;32mwhile\u001b[0m\u001b[0;34m(\u001b[0m\u001b[0mstatus_attempts\u001b[0m \u001b[0;34m<\u001b[0m \u001b[0mmax_attempts\u001b[0m \u001b[0;32mand\u001b[0m \u001b[0mself\u001b[0m\u001b[0;34m.\u001b[0m\u001b[0mdac\u001b[0m\u001b[0;34m.\u001b[0m\u001b[0mHeliosLib\u001b[0m\u001b[0;34m.\u001b[0m\u001b[0mGetStatus\u001b[0m\u001b[0;34m(\u001b[0m\u001b[0;36m0\u001b[0m\u001b[0;34m)\u001b[0m \u001b[0;34m!=\u001b[0m \u001b[0;36m1\u001b[0m\u001b[0;34m)\u001b[0m\u001b[0;34m:\u001b[0m\u001b[0;34m\u001b[0m\u001b[0;34m\u001b[0m\u001b[0m\n\u001b[0m\u001b[1;32m    112\u001b[0m             \u001b[0mstatus_attempts\u001b[0m \u001b[0;34m+=\u001b[0m \u001b[0;36m1\u001b[0m\u001b[0;34m\u001b[0m\u001b[0;34m\u001b[0m\u001b[0m\n\u001b[1;32m    113\u001b[0m \u001b[0;34m\u001b[0m\u001b[0m\n",
      "\u001b[0;31mKeyboardInterrupt\u001b[0m: "
     ]
    }
   ],
   "source": [
    "# SPIRAL PATTERN (DEEP INSIDE MY BRAIN)\n",
    "num_beams = 18\n",
    "# Make sure to keep dwell/blank small and close together for good performance\n",
    "dwell = 10\n",
    "blank = 7\n",
    "num_colors = 3\n",
    "T = num_beams*dwell\n",
    "# Stratified theta\n",
    "theta = np.linspace(0, 2*np.pi, num_beams, endpoint=False)\n",
    "# Taking stratified theta and repeat it dwell times so we stop at those points\n",
    "theta = np.repeat(theta, dwell)\n",
    "\n",
    "arr_pos = np.zeros((T, 2))\n",
    "\n",
    "colors = np.array([[1, 0, 0], [0, 0, 1], [0, 1, 0]])\n",
    "# Repeat rgb -> rrrgggbbb\n",
    "colors = np.repeat(colors, dwell, axis=0)\n",
    "# Tile = Repeat the entire color pattern end over end\n",
    "arr_col = np.tile(colors, (num_beams//num_colors, 1))\n",
    "\n",
    "# Blank out the laser while mirrors moving. Laser displays for dwell-blank timestamps\n",
    "for b in range(blank):\n",
    "    arr_col[b::dwell, :] = 0\n",
    "    \n",
    "phase = 0\n",
    "delta = -0.2*np.pi\n",
    "lim1 = 0 + 10*delta\n",
    "lim2 = np.pi + delta + 0.1\n",
    "lim3 = 1.9*np.pi\n",
    "\n",
    "for i in range(1000):\n",
    "    theta_new = (theta + phase)%(2*np.pi)\n",
    "    arr_pos[:, 0] = np.cos(theta_new)\n",
    "    arr_pos[:, 1] = np.sin(theta_new)\n",
    "    # Mask based off of theta, not in the x-y space. theta = (0, 2pi)\n",
    "    mask = np.logical_or(np.logical_and(theta_new > lim1, theta_new < lim2), theta_new > lim3)\n",
    "    queue.submit(arr_pos, arr_col*mask[:, np.newaxis])\n",
    "    \n",
    "    arr_pos[:, 0] = 0.75*np.cos(theta_new)\n",
    "    arr_pos[:, 1] = 0.75*np.sin(theta_new)\n",
    "    mask = arr_pos[:, 1] >= 0\n",
    "    queue.submit(arr_pos, arr_col*mask[:, np.newaxis])\n",
    "    \n",
    "    arr_pos[:, 0] = 0.5*np.cos(theta_new)\n",
    "    arr_pos[:, 1] = 0.5*np.sin(theta_new)\n",
    "    mask = arr_pos[:, 1] >= 0\n",
    "    queue.submit(arr_pos, arr_col*mask[:, np.newaxis])\n",
    "    \n",
    "    phase += 0.01*np.pi\n"
   ]
  },
  {
   "cell_type": "code",
   "execution_count": 95,
   "metadata": {},
   "outputs": [
    {
     "name": "stdout",
     "output_type": "stream",
     "text": [
      "[1 1 1 2 2 2 3 3 3]\n",
      "[1 2 3 1 2 3 1 2 3]\n",
      "[1 4 7]\n"
     ]
    }
   ],
   "source": [
    "print(np.repeat(np.array([1, 2, 3]), 3))\n",
    "print(np.tile(np.array([1, 2, 3]), 3))\n",
    "print(np.arange(10)[1::3])"
   ]
  },
  {
   "cell_type": "code",
   "execution_count": 6,
   "metadata": {},
   "outputs": [],
   "source": [
    "def beamify(arr_pos_smooth, arr_col, num_beams, blank=50):\n",
    "    '''\n",
    "    Takes a smooth trajectory and makes it into individual beams\n",
    "    Also performs blanking on the color array \n",
    "    '''\n",
    "    # Find how often to sample the original position array\n",
    "    T = arr_pos_smooth.shape[0]\n",
    "    dt = T//num_beams\n",
    "    \n",
    "    # Sample the position array and repeat it \n",
    "    beam_points = arr_pos_smooth[::dt, :]\n",
    "    beam_points = np.repeat(beam_points, num_beams, axis=0)\n",
    "    \n",
    "    # Make a new pos arr and set all of them to the last beam's pos\n",
    "    arr_pos_beamed = np.zeros_like(arr_pos_smooth)\n",
    "    arr_pos_beamed[:, :] = beam_points[-1]\n",
    "    arr_pos_beamed[0:beam_points.shape[0], :] = beam_points\n",
    "    \n",
    "    # Adds blanking to the color array\n",
    "    for b in range(blank):\n",
    "        arr_col[b::dt] = 0\n",
    "        \n",
    "    for i in range(100):\n",
    "        print(\"FIX THIS FUNCTION \")\n",
    "        return 0\n",
    "        \n",
    "    return arr_pos_beamed, arr_col\n",
    "    \n",
    "    "
   ]
  },
  {
   "cell_type": "code",
   "execution_count": 36,
   "metadata": {},
   "outputs": [
    {
     "ename": "NameError",
     "evalue": "name 'beamify' is not defined",
     "output_type": "error",
     "traceback": [
      "\u001b[0;31m---------------------------------------------------------------------------\u001b[0m",
      "\u001b[0;31mNameError\u001b[0m                                 Traceback (most recent call last)",
      "\u001b[0;32m<ipython-input-36-d0c3dfa31a52>\u001b[0m in \u001b[0;36m<module>\u001b[0;34m\u001b[0m\n\u001b[1;32m      6\u001b[0m \u001b[0marr_col\u001b[0m \u001b[0;34m=\u001b[0m \u001b[0mnp\u001b[0m\u001b[0;34m.\u001b[0m\u001b[0mones\u001b[0m\u001b[0;34m(\u001b[0m\u001b[0;34m(\u001b[0m\u001b[0mT\u001b[0m\u001b[0;34m,\u001b[0m \u001b[0;36m3\u001b[0m\u001b[0;34m)\u001b[0m\u001b[0;34m)\u001b[0m\u001b[0;34m\u001b[0m\u001b[0;34m\u001b[0m\u001b[0m\n\u001b[1;32m      7\u001b[0m \u001b[0;34m\u001b[0m\u001b[0m\n\u001b[0;32m----> 8\u001b[0;31m \u001b[0marr_pos\u001b[0m\u001b[0;34m,\u001b[0m \u001b[0marr_col\u001b[0m \u001b[0;34m=\u001b[0m \u001b[0mbeamify\u001b[0m\u001b[0;34m(\u001b[0m\u001b[0marr_pos\u001b[0m\u001b[0;34m,\u001b[0m \u001b[0marr_col\u001b[0m\u001b[0;34m,\u001b[0m \u001b[0mnum_beams\u001b[0m\u001b[0;34m=\u001b[0m\u001b[0;36m30\u001b[0m\u001b[0;34m,\u001b[0m \u001b[0mblank\u001b[0m\u001b[0;34m=\u001b[0m\u001b[0;36m10\u001b[0m\u001b[0;34m)\u001b[0m\u001b[0;34m\u001b[0m\u001b[0;34m\u001b[0m\u001b[0m\n\u001b[0m\u001b[1;32m      9\u001b[0m \u001b[0;34m\u001b[0m\u001b[0m\n\u001b[1;32m     10\u001b[0m \u001b[0;32mfor\u001b[0m \u001b[0mi\u001b[0m \u001b[0;32min\u001b[0m \u001b[0mrange\u001b[0m\u001b[0;34m(\u001b[0m\u001b[0;36m100\u001b[0m\u001b[0;34m)\u001b[0m\u001b[0;34m:\u001b[0m\u001b[0;34m\u001b[0m\u001b[0;34m\u001b[0m\u001b[0m\n",
      "\u001b[0;31mNameError\u001b[0m: name 'beamify' is not defined"
     ]
    }
   ],
   "source": [
    "T = 1000\n",
    "theta = np.linspace(0, 2*np.pi, T)\n",
    "arr_pos = np.zeros((T, 2))\n",
    "arr_pos[:, 0] = np.cos(theta)\n",
    "arr_pos[:, 1] = np.sin(theta)\n",
    "arr_col = np.ones((T, 3))\n",
    "\n",
    "arr_pos, arr_col = beamify(arr_pos, arr_col, num_beams=30, blank=10)\n",
    "\n",
    "for i in range(100):\n",
    "    queue.submit(arr_pos, arr_col)"
   ]
  },
  {
   "cell_type": "code",
   "execution_count": 76,
   "metadata": {},
   "outputs": [],
   "source": [
    "# ARC THAT EXPANDS\n",
    "T = 500\n",
    "theta = np.concatenate([np.linspace(0, np.pi, T//2), np.linspace(np.pi, 0, T//2)])\n",
    "arr_pos = np.zeros((T, 2))\n",
    "arr_pos[:, 0] = np.cos(theta)\n",
    "arr_pos[:, 1] = np.sin(theta)\n",
    "\n",
    "arr_col = np.ones((T, 3))/4\n",
    "\n",
    "num_steps = 100\n",
    "for i in range(num_steps):\n",
    "    #arr_col_out = arr_col*(theta[:, np.newaxis] < np.pi*i/num_steps + np.pi/2)\n",
    "    arr_col_out = arr_col*np.logical_and(theta[:, np.newaxis] < np.pi*i/num_steps + np.pi/2, theta[:, np.newaxis] > np.pi/2 - np.pi*i/num_steps)\n",
    "    queue.submit(arr_pos, arr_col_out)"
   ]
  },
  {
   "cell_type": "code",
   "execution_count": 23,
   "metadata": {},
   "outputs": [],
   "source": [
    "# Frames -> Patterns -> Sequences"
   ]
  },
  {
   "cell_type": "code",
   "execution_count": 64,
   "metadata": {},
   "outputs": [
    {
     "name": "stdout",
     "output_type": "stream",
     "text": [
      "(1000, 3)\n",
      "(1000, 1)\n"
     ]
    }
   ],
   "source": [
    "print(arr_col.shape)\n",
    "print(theta[:,np.newaxis].shape)"
   ]
  },
  {
   "cell_type": "code",
   "execution_count": 61,
   "metadata": {},
   "outputs": [
    {
     "data": {
      "text/plain": [
       "array([[0.        , 0.        , 0.        ],\n",
       "       [0.00157394, 0.00157394, 0.00157394],\n",
       "       [0.00314789, 0.00314789, 0.00314789],\n",
       "       ...,\n",
       "       [0.00314789, 0.00314789, 0.00314789],\n",
       "       [0.00157394, 0.00157394, 0.00157394],\n",
       "       [0.        , 0.        , 0.        ]])"
      ]
     },
     "execution_count": 61,
     "metadata": {},
     "output_type": "execute_result"
    }
   ],
   "source": [
    "arr_col*theta[:, np.newaxis]"
   ]
  },
  {
   "cell_type": "code",
   "execution_count": 66,
   "metadata": {},
   "outputs": [],
   "source": [
    "thet = 2\n",
    "x = 0.5"
   ]
  },
  {
   "cell_type": "code",
   "execution_count": 69,
   "metadata": {},
   "outputs": [
    {
     "data": {
      "text/plain": [
       "0"
      ]
     },
     "execution_count": 69,
     "metadata": {},
     "output_type": "execute_result"
    }
   ],
   "source": [
    "theta + pi/ 2 > x & theta + pi/ 2 < x"
   ]
  },
  {
   "cell_type": "code",
   "execution_count": 83,
   "metadata": {},
   "outputs": [
    {
     "name": "stdout",
     "output_type": "stream",
     "text": [
      "[ True  True  True False]\n",
      "[ True False False False]\n"
     ]
    }
   ],
   "source": [
    "x = np.array([True, True, False, False])\n",
    "y = np.array([True, False, True, False])\n",
    "print(np.logical_or(x, y))\n",
    "print(np.logical_and(x, y))"
   ]
  },
  {
   "cell_type": "code",
   "execution_count": null,
   "metadata": {},
   "outputs": [],
   "source": []
  }
 ],
 "metadata": {
  "kernelspec": {
   "display_name": "Python 3",
   "language": "python",
   "name": "python3"
  },
  "language_info": {
   "codemirror_mode": {
    "name": "ipython",
    "version": 3
   },
   "file_extension": ".py",
   "mimetype": "text/x-python",
   "name": "python",
   "nbconvert_exporter": "python",
   "pygments_lexer": "ipython3",
   "version": "3.8.5"
  }
 },
 "nbformat": 4,
 "nbformat_minor": 4
}
