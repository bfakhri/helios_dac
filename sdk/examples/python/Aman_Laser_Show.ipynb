{
 "cells": [
  {
   "cell_type": "code",
   "execution_count": 1,
   "metadata": {},
   "outputs": [],
   "source": [
    "import laser_lib\n",
    "import numpy as np\n",
    "import math\n",
    "import time\n",
    "import cv2\n",
    "from skimage.color import rgb2lab, lab2rgb"
   ]
  },
  {
   "cell_type": "code",
   "execution_count": 2,
   "metadata": {},
   "outputs": [
    {
     "name": "stdout",
     "output_type": "stream",
     "text": [
      "Found  1 Helios DACs\n"
     ]
    }
   ],
   "source": [
    "queue = laser_lib.DacQueue()"
   ]
  },
  {
   "cell_type": "code",
   "execution_count": 3,
   "metadata": {},
   "outputs": [],
   "source": [
    "def signer(f, T, phase=0.0):\n",
    "    '''\n",
    "    Produces spaced out points from 0 to 1 whose distance between \n",
    "    consecutive points is sinusoidal \n",
    "    Input:  f - frequency \n",
    "            T - number of samples\n",
    "            phase - phase shift (0, 1)\n",
    "    Returns: x - positions on the line\n",
    "             dx - the derivative of the function of x\n",
    "    '''\n",
    "    # Convert to radians\n",
    "    f = f*2*np.pi\n",
    "    # Generate the baseline \n",
    "    t = np.linspace(0.0+phase, 1.0+phase, T)\n",
    "    # Find points \n",
    "    x = (f*t - np.cos(f*t) + 1)/f\n",
    "    # Calculate derivative\n",
    "    dx = (np.sin(f*t) + 1)/2\n",
    "    \n",
    "    return x, dx\n",
    "\n",
    "def triangle(theta, alpha, sincos='sin'):\n",
    "    '''\n",
    "    Returns a wave between a sine wave and triangle wave depending on alpha\n",
    "    alpha = 0 - sine wave\n",
    "    alpha = 1 - triangle wave\n",
    "    '''\n",
    "    if(sincos == 'sin'):\n",
    "        ps = 0\n",
    "    elif(sincos == 'cos'):\n",
    "        ps = np.pi/2\n",
    "    return alpha*2*np.arcsin(np.sin(theta + ps))/np.pi + (1-alpha)*np.sin(theta + ps)\n",
    "    \n",
    "def ellipser(scale_x=1, scale_y=1, f_x=1, f_y=1, f_s=1000, phase_s=0, sintriang=0, colors=[(1,1,1)], T=500):\n",
    "    '''\n",
    "    Generates a pattern that is a function of ellipses \n",
    "    with parameters that can be interpolated between\n",
    "    '''\n",
    "    theta_norm, theta_dx = signer(f=f_s, phase=phase_s, T=T)\n",
    "    theta = theta_norm*2*np.pi\n",
    "    arr_pos = np.zeros((T, 2))\n",
    "    arr_pos[:,0] = scale_x*triangle(f_x*theta, sintriang, 'sin')\n",
    "    arr_pos[:,1] = scale_y*triangle(f_y*theta, sintriang, 'cos')\n",
    "    \n",
    "    # Color the pattern\n",
    "    arr_col = np.ones((T, 3), np.float32)\n",
    "    if(len(colors) == 1):\n",
    "        # All one color\n",
    "        arr_col[:, :] = colors[0][np.newaxis, :]\n",
    "    if(len(colors) == 2):\n",
    "        # Color based on speed of laser\n",
    "        arr_col[theta_dx > 0.1, :] = colors[0]\n",
    "        arr_col[theta_dx <= 0.1, :] = colors[1]\n",
    "    \n",
    "    return arr_pos, arr_col\n"
   ]
  },
  {
   "cell_type": "code",
   "execution_count": 41,
   "metadata": {},
   "outputs": [
    {
     "ename": "KeyboardInterrupt",
     "evalue": "",
     "output_type": "error",
     "traceback": [
      "\u001b[0;31m---------------------------------------------------------------------------\u001b[0m",
      "\u001b[0;31mKeyboardInterrupt\u001b[0m                         Traceback (most recent call last)",
      "\u001b[0;32m<ipython-input-41-fef13016ec5a>\u001b[0m in \u001b[0;36m<module>\u001b[0;34m\u001b[0m\n\u001b[1;32m     19\u001b[0m     \u001b[0mang_rot\u001b[0m \u001b[0;34m+=\u001b[0m \u001b[0;36m0.1\u001b[0m\u001b[0;34m\u001b[0m\u001b[0;34m\u001b[0m\u001b[0m\n\u001b[1;32m     20\u001b[0m     \u001b[0marr_pos\u001b[0m\u001b[0;34m,\u001b[0m \u001b[0marr_col\u001b[0m \u001b[0;34m=\u001b[0m \u001b[0mellipser\u001b[0m\u001b[0;34m(\u001b[0m\u001b[0mscale_x\u001b[0m\u001b[0;34m=\u001b[0m\u001b[0;36m1\u001b[0m\u001b[0;34m,\u001b[0m \u001b[0mscale_y\u001b[0m\u001b[0;34m=\u001b[0m\u001b[0;36m1\u001b[0m\u001b[0;34m,\u001b[0m \u001b[0mf_x\u001b[0m\u001b[0;34m=\u001b[0m\u001b[0;36m1\u001b[0m\u001b[0;34m,\u001b[0m \u001b[0mf_y\u001b[0m\u001b[0;34m=\u001b[0m\u001b[0;36m1\u001b[0m\u001b[0;34m,\u001b[0m \u001b[0mf_s\u001b[0m\u001b[0;34m=\u001b[0m\u001b[0mnum_beams\u001b[0m\u001b[0;34m,\u001b[0m \u001b[0mphase_s\u001b[0m\u001b[0;34m=\u001b[0m\u001b[0mshift\u001b[0m\u001b[0;34m,\u001b[0m \u001b[0msintriang\u001b[0m\u001b[0;34m=\u001b[0m\u001b[0;36m0\u001b[0m\u001b[0;34m,\u001b[0m \u001b[0mcolors\u001b[0m\u001b[0;34m=\u001b[0m\u001b[0;34m[\u001b[0m\u001b[0;34m(\u001b[0m\u001b[0;36m0\u001b[0m\u001b[0;34m,\u001b[0m\u001b[0;36m0\u001b[0m\u001b[0;34m,\u001b[0m\u001b[0;36m0\u001b[0m\u001b[0;34m)\u001b[0m\u001b[0;34m,\u001b[0m\u001b[0;34m(\u001b[0m\u001b[0;36m1\u001b[0m\u001b[0;34m,\u001b[0m\u001b[0;36m1\u001b[0m\u001b[0;34m,\u001b[0m\u001b[0;36m1\u001b[0m\u001b[0;34m)\u001b[0m\u001b[0;34m]\u001b[0m\u001b[0;34m,\u001b[0m \u001b[0mT\u001b[0m\u001b[0;34m=\u001b[0m\u001b[0mT\u001b[0m\u001b[0;34m)\u001b[0m\u001b[0;34m\u001b[0m\u001b[0;34m\u001b[0m\u001b[0m\n\u001b[0;32m---> 21\u001b[0;31m     \u001b[0mqueue\u001b[0m\u001b[0;34m.\u001b[0m\u001b[0msubmit\u001b[0m\u001b[0;34m(\u001b[0m\u001b[0mrotate_pos\u001b[0m\u001b[0;34m(\u001b[0m\u001b[0marr_pos\u001b[0m\u001b[0;34m,\u001b[0m \u001b[0mang_rot\u001b[0m\u001b[0;34m)\u001b[0m\u001b[0;34m,\u001b[0m \u001b[0mtrip_col\u001b[0m\u001b[0;34m*\u001b[0m\u001b[0marr_col\u001b[0m\u001b[0;34m)\u001b[0m\u001b[0;34m\u001b[0m\u001b[0;34m\u001b[0m\u001b[0m\n\u001b[0m\u001b[1;32m     22\u001b[0m     \u001b[0mqueue\u001b[0m\u001b[0;34m.\u001b[0m\u001b[0msubmit\u001b[0m\u001b[0;34m(\u001b[0m\u001b[0;36m0.75\u001b[0m\u001b[0;34m*\u001b[0m\u001b[0mrotate_pos\u001b[0m\u001b[0;34m(\u001b[0m\u001b[0marr_pos\u001b[0m\u001b[0;34m,\u001b[0m \u001b[0;34m-\u001b[0m\u001b[0mang_rot\u001b[0m\u001b[0;34m)\u001b[0m\u001b[0;34m,\u001b[0m \u001b[0mtrip_col\u001b[0m\u001b[0;34m*\u001b[0m\u001b[0marr_col\u001b[0m\u001b[0;34m)\u001b[0m\u001b[0;34m\u001b[0m\u001b[0;34m\u001b[0m\u001b[0m\n\u001b[1;32m     23\u001b[0m     \u001b[0;31m#queue.submit(0.50*rotate_pos(arr_pos,  ang_rot), trip_col*arr_col)\u001b[0m\u001b[0;34m\u001b[0m\u001b[0;34m\u001b[0m\u001b[0;34m\u001b[0m\u001b[0m\n",
      "\u001b[0;32m~/PersonalProjects/helios_dac/sdk/examples/python/laser_lib.py\u001b[0m in \u001b[0;36msubmit\u001b[0;34m(self, pat_pos, pat_col, angular_density, debug)\u001b[0m\n\u001b[1;32m     67\u001b[0m         \u001b[0mself\u001b[0m\u001b[0;34m.\u001b[0m\u001b[0mwrite_frames\u001b[0m\u001b[0;34m(\u001b[0m\u001b[0mgap_points\u001b[0m\u001b[0;34m,\u001b[0m \u001b[0mnum_gap_points\u001b[0m\u001b[0;34m,\u001b[0m \u001b[0mdo_not_loop\u001b[0m\u001b[0;34m=\u001b[0m\u001b[0;32mTrue\u001b[0m\u001b[0;34m,\u001b[0m \u001b[0mdebug\u001b[0m\u001b[0;34m=\u001b[0m\u001b[0mdebug\u001b[0m\u001b[0;34m)\u001b[0m\u001b[0;34m\u001b[0m\u001b[0;34m\u001b[0m\u001b[0m\n\u001b[1;32m     68\u001b[0m         \u001b[0;31m# Send the new pattern to the dac\u001b[0m\u001b[0;34m\u001b[0m\u001b[0;34m\u001b[0m\u001b[0;34m\u001b[0m\u001b[0m\n\u001b[0;32m---> 69\u001b[0;31m         \u001b[0mself\u001b[0m\u001b[0;34m.\u001b[0m\u001b[0mwrite_frames\u001b[0m\u001b[0;34m(\u001b[0m\u001b[0mpat_points\u001b[0m\u001b[0;34m,\u001b[0m \u001b[0mnum_pat_points\u001b[0m\u001b[0;34m,\u001b[0m \u001b[0mdo_not_loop\u001b[0m\u001b[0;34m=\u001b[0m\u001b[0;32mTrue\u001b[0m\u001b[0;34m,\u001b[0m \u001b[0mdebug\u001b[0m\u001b[0;34m=\u001b[0m\u001b[0mdebug\u001b[0m\u001b[0;34m)\u001b[0m\u001b[0;34m\u001b[0m\u001b[0;34m\u001b[0m\u001b[0m\n\u001b[0m\u001b[1;32m     70\u001b[0m         \u001b[0;31m# Set the last_position\u001b[0m\u001b[0;34m\u001b[0m\u001b[0;34m\u001b[0m\u001b[0;34m\u001b[0m\u001b[0m\n\u001b[1;32m     71\u001b[0m         \u001b[0mself\u001b[0m\u001b[0;34m.\u001b[0m\u001b[0mlast_pos\u001b[0m \u001b[0;34m=\u001b[0m \u001b[0mpat_pos\u001b[0m\u001b[0;34m[\u001b[0m\u001b[0;34m-\u001b[0m\u001b[0;36m1\u001b[0m\u001b[0;34m,\u001b[0m \u001b[0;34m:\u001b[0m\u001b[0;34m]\u001b[0m\u001b[0;34m.\u001b[0m\u001b[0mcopy\u001b[0m\u001b[0;34m(\u001b[0m\u001b[0;34m)\u001b[0m\u001b[0;34m\u001b[0m\u001b[0;34m\u001b[0m\u001b[0m\n",
      "\u001b[0;32m~/PersonalProjects/helios_dac/sdk/examples/python/laser_lib.py\u001b[0m in \u001b[0;36mwrite_frames\u001b[0;34m(self, points, num_points, do_not_loop, start_immediately, debug)\u001b[0m\n\u001b[1;32m    113\u001b[0m         \u001b[0mmax_attempts\u001b[0m \u001b[0;34m=\u001b[0m \u001b[0mnp\u001b[0m\u001b[0;34m.\u001b[0m\u001b[0minf\u001b[0m\u001b[0;34m\u001b[0m\u001b[0;34m\u001b[0m\u001b[0m\n\u001b[1;32m    114\u001b[0m         \u001b[0;31m# Make 512 attempts for DAC status to be ready. After that, just give up and try to write the frame anyway\u001b[0m\u001b[0;34m\u001b[0m\u001b[0;34m\u001b[0m\u001b[0;34m\u001b[0m\u001b[0m\n\u001b[0;32m--> 115\u001b[0;31m         \u001b[0;32mwhile\u001b[0m\u001b[0;34m(\u001b[0m\u001b[0mstatus_attempts\u001b[0m \u001b[0;34m<\u001b[0m \u001b[0mmax_attempts\u001b[0m \u001b[0;32mand\u001b[0m \u001b[0mself\u001b[0m\u001b[0;34m.\u001b[0m\u001b[0mdac\u001b[0m\u001b[0;34m.\u001b[0m\u001b[0mHeliosLib\u001b[0m\u001b[0;34m.\u001b[0m\u001b[0mGetStatus\u001b[0m\u001b[0;34m(\u001b[0m\u001b[0;36m0\u001b[0m\u001b[0;34m)\u001b[0m \u001b[0;34m!=\u001b[0m \u001b[0;36m1\u001b[0m\u001b[0;34m)\u001b[0m\u001b[0;34m:\u001b[0m\u001b[0;34m\u001b[0m\u001b[0;34m\u001b[0m\u001b[0m\n\u001b[0m\u001b[1;32m    116\u001b[0m             \u001b[0mstatus_attempts\u001b[0m \u001b[0;34m+=\u001b[0m \u001b[0;36m1\u001b[0m\u001b[0;34m\u001b[0m\u001b[0;34m\u001b[0m\u001b[0m\n\u001b[1;32m    117\u001b[0m \u001b[0;34m\u001b[0m\u001b[0m\n",
      "\u001b[0;31mKeyboardInterrupt\u001b[0m: "
     ]
    }
   ],
   "source": []
  },
  {
   "cell_type": "markdown",
   "metadata": {},
   "source": [
    "## Concentric, Rotating, Discrete Beam Circles"
   ]
  },
  {
   "cell_type": "code",
   "execution_count": 43,
   "metadata": {},
   "outputs": [
    {
     "ename": "KeyboardInterrupt",
     "evalue": "",
     "output_type": "error",
     "traceback": [
      "\u001b[0;31m---------------------------------------------------------------------------\u001b[0m",
      "\u001b[0;31mKeyboardInterrupt\u001b[0m                         Traceback (most recent call last)",
      "\u001b[0;32m<ipython-input-43-71409b3aaf2e>\u001b[0m in \u001b[0;36m<module>\u001b[0;34m\u001b[0m\n\u001b[1;32m     20\u001b[0m     \u001b[0marr_pos\u001b[0m\u001b[0;34m,\u001b[0m \u001b[0marr_col\u001b[0m \u001b[0;34m=\u001b[0m \u001b[0mellipser\u001b[0m\u001b[0;34m(\u001b[0m\u001b[0mscale_x\u001b[0m\u001b[0;34m=\u001b[0m\u001b[0;36m1\u001b[0m\u001b[0;34m,\u001b[0m \u001b[0mscale_y\u001b[0m\u001b[0;34m=\u001b[0m\u001b[0;36m1\u001b[0m\u001b[0;34m,\u001b[0m \u001b[0mf_x\u001b[0m\u001b[0;34m=\u001b[0m\u001b[0;36m1\u001b[0m\u001b[0;34m,\u001b[0m \u001b[0mf_y\u001b[0m\u001b[0;34m=\u001b[0m\u001b[0;36m1\u001b[0m\u001b[0;34m,\u001b[0m \u001b[0mf_s\u001b[0m\u001b[0;34m=\u001b[0m\u001b[0mnum_beams\u001b[0m\u001b[0;34m,\u001b[0m \u001b[0mphase_s\u001b[0m\u001b[0;34m=\u001b[0m\u001b[0mshift\u001b[0m\u001b[0;34m,\u001b[0m \u001b[0msintriang\u001b[0m\u001b[0;34m=\u001b[0m\u001b[0;36m0\u001b[0m\u001b[0;34m,\u001b[0m \u001b[0mcolors\u001b[0m\u001b[0;34m=\u001b[0m\u001b[0;34m[\u001b[0m\u001b[0;34m(\u001b[0m\u001b[0;36m0\u001b[0m\u001b[0;34m,\u001b[0m\u001b[0;36m0\u001b[0m\u001b[0;34m,\u001b[0m\u001b[0;36m0\u001b[0m\u001b[0;34m)\u001b[0m\u001b[0;34m,\u001b[0m\u001b[0;34m(\u001b[0m\u001b[0;36m1\u001b[0m\u001b[0;34m,\u001b[0m\u001b[0;36m1\u001b[0m\u001b[0;34m,\u001b[0m\u001b[0;36m1\u001b[0m\u001b[0;34m)\u001b[0m\u001b[0;34m]\u001b[0m\u001b[0;34m,\u001b[0m \u001b[0mT\u001b[0m\u001b[0;34m=\u001b[0m\u001b[0mT\u001b[0m\u001b[0;34m)\u001b[0m\u001b[0;34m\u001b[0m\u001b[0;34m\u001b[0m\u001b[0m\n\u001b[1;32m     21\u001b[0m     \u001b[0mqueue\u001b[0m\u001b[0;34m.\u001b[0m\u001b[0msubmit\u001b[0m\u001b[0;34m(\u001b[0m\u001b[0mrotate_pos\u001b[0m\u001b[0;34m(\u001b[0m\u001b[0marr_pos\u001b[0m\u001b[0;34m,\u001b[0m \u001b[0mang_rot\u001b[0m\u001b[0;34m)\u001b[0m\u001b[0;34m,\u001b[0m \u001b[0mtrip_col\u001b[0m\u001b[0;34m*\u001b[0m\u001b[0marr_col\u001b[0m\u001b[0;34m)\u001b[0m\u001b[0;34m\u001b[0m\u001b[0;34m\u001b[0m\u001b[0m\n\u001b[0;32m---> 22\u001b[0;31m     \u001b[0mqueue\u001b[0m\u001b[0;34m.\u001b[0m\u001b[0msubmit\u001b[0m\u001b[0;34m(\u001b[0m\u001b[0;36m0.75\u001b[0m\u001b[0;34m*\u001b[0m\u001b[0mrotate_pos\u001b[0m\u001b[0;34m(\u001b[0m\u001b[0marr_pos\u001b[0m\u001b[0;34m,\u001b[0m \u001b[0;34m-\u001b[0m\u001b[0mang_rot\u001b[0m\u001b[0;34m)\u001b[0m\u001b[0;34m,\u001b[0m \u001b[0mtrip_col\u001b[0m\u001b[0;34m*\u001b[0m\u001b[0marr_col\u001b[0m\u001b[0;34m)\u001b[0m\u001b[0;34m\u001b[0m\u001b[0;34m\u001b[0m\u001b[0m\n\u001b[0m\u001b[1;32m     23\u001b[0m     \u001b[0;31m#queue.submit(0.50*rotate_pos(arr_pos,  ang_rot), trip_col*arr_col)\u001b[0m\u001b[0;34m\u001b[0m\u001b[0;34m\u001b[0m\u001b[0;34m\u001b[0m\u001b[0m\n\u001b[1;32m     24\u001b[0m \u001b[0;34m\u001b[0m\u001b[0m\n",
      "\u001b[0;32m~/PersonalProjects/helios_dac/sdk/examples/python/laser_lib.py\u001b[0m in \u001b[0;36msubmit\u001b[0;34m(self, pat_pos, pat_col, angular_density, debug)\u001b[0m\n\u001b[1;32m     67\u001b[0m         \u001b[0mself\u001b[0m\u001b[0;34m.\u001b[0m\u001b[0mwrite_frames\u001b[0m\u001b[0;34m(\u001b[0m\u001b[0mgap_points\u001b[0m\u001b[0;34m,\u001b[0m \u001b[0mnum_gap_points\u001b[0m\u001b[0;34m,\u001b[0m \u001b[0mdo_not_loop\u001b[0m\u001b[0;34m=\u001b[0m\u001b[0;32mTrue\u001b[0m\u001b[0;34m,\u001b[0m \u001b[0mdebug\u001b[0m\u001b[0;34m=\u001b[0m\u001b[0mdebug\u001b[0m\u001b[0;34m)\u001b[0m\u001b[0;34m\u001b[0m\u001b[0;34m\u001b[0m\u001b[0m\n\u001b[1;32m     68\u001b[0m         \u001b[0;31m# Send the new pattern to the dac\u001b[0m\u001b[0;34m\u001b[0m\u001b[0;34m\u001b[0m\u001b[0;34m\u001b[0m\u001b[0m\n\u001b[0;32m---> 69\u001b[0;31m         \u001b[0mself\u001b[0m\u001b[0;34m.\u001b[0m\u001b[0mwrite_frames\u001b[0m\u001b[0;34m(\u001b[0m\u001b[0mpat_points\u001b[0m\u001b[0;34m,\u001b[0m \u001b[0mnum_pat_points\u001b[0m\u001b[0;34m,\u001b[0m \u001b[0mdo_not_loop\u001b[0m\u001b[0;34m=\u001b[0m\u001b[0;32mTrue\u001b[0m\u001b[0;34m,\u001b[0m \u001b[0mdebug\u001b[0m\u001b[0;34m=\u001b[0m\u001b[0mdebug\u001b[0m\u001b[0;34m)\u001b[0m\u001b[0;34m\u001b[0m\u001b[0;34m\u001b[0m\u001b[0m\n\u001b[0m\u001b[1;32m     70\u001b[0m         \u001b[0;31m# Set the last_position\u001b[0m\u001b[0;34m\u001b[0m\u001b[0;34m\u001b[0m\u001b[0;34m\u001b[0m\u001b[0m\n\u001b[1;32m     71\u001b[0m         \u001b[0mself\u001b[0m\u001b[0;34m.\u001b[0m\u001b[0mlast_pos\u001b[0m \u001b[0;34m=\u001b[0m \u001b[0mpat_pos\u001b[0m\u001b[0;34m[\u001b[0m\u001b[0;34m-\u001b[0m\u001b[0;36m1\u001b[0m\u001b[0;34m,\u001b[0m \u001b[0;34m:\u001b[0m\u001b[0;34m]\u001b[0m\u001b[0;34m.\u001b[0m\u001b[0mcopy\u001b[0m\u001b[0;34m(\u001b[0m\u001b[0;34m)\u001b[0m\u001b[0;34m\u001b[0m\u001b[0;34m\u001b[0m\u001b[0m\n",
      "\u001b[0;32m~/PersonalProjects/helios_dac/sdk/examples/python/laser_lib.py\u001b[0m in \u001b[0;36mwrite_frames\u001b[0;34m(self, points, num_points, do_not_loop, start_immediately, debug)\u001b[0m\n\u001b[1;32m    113\u001b[0m         \u001b[0mmax_attempts\u001b[0m \u001b[0;34m=\u001b[0m \u001b[0mnp\u001b[0m\u001b[0;34m.\u001b[0m\u001b[0minf\u001b[0m\u001b[0;34m\u001b[0m\u001b[0;34m\u001b[0m\u001b[0m\n\u001b[1;32m    114\u001b[0m         \u001b[0;31m# Make 512 attempts for DAC status to be ready. After that, just give up and try to write the frame anyway\u001b[0m\u001b[0;34m\u001b[0m\u001b[0;34m\u001b[0m\u001b[0;34m\u001b[0m\u001b[0m\n\u001b[0;32m--> 115\u001b[0;31m         \u001b[0;32mwhile\u001b[0m\u001b[0;34m(\u001b[0m\u001b[0mstatus_attempts\u001b[0m \u001b[0;34m<\u001b[0m \u001b[0mmax_attempts\u001b[0m \u001b[0;32mand\u001b[0m \u001b[0mself\u001b[0m\u001b[0;34m.\u001b[0m\u001b[0mdac\u001b[0m\u001b[0;34m.\u001b[0m\u001b[0mHeliosLib\u001b[0m\u001b[0;34m.\u001b[0m\u001b[0mGetStatus\u001b[0m\u001b[0;34m(\u001b[0m\u001b[0;36m0\u001b[0m\u001b[0;34m)\u001b[0m \u001b[0;34m!=\u001b[0m \u001b[0;36m1\u001b[0m\u001b[0;34m)\u001b[0m\u001b[0;34m:\u001b[0m\u001b[0;34m\u001b[0m\u001b[0;34m\u001b[0m\u001b[0m\n\u001b[0m\u001b[1;32m    116\u001b[0m             \u001b[0mstatus_attempts\u001b[0m \u001b[0;34m+=\u001b[0m \u001b[0;36m1\u001b[0m\u001b[0;34m\u001b[0m\u001b[0;34m\u001b[0m\u001b[0m\n\u001b[1;32m    117\u001b[0m \u001b[0;34m\u001b[0m\u001b[0m\n",
      "\u001b[0;31mKeyboardInterrupt\u001b[0m: "
     ]
    }
   ],
   "source": [
    "def rotate_pos(arr_pos, ang_rot):\n",
    "    '''\n",
    "    Rotates all points in arr_pos by ang_rot radians\n",
    "    '''\n",
    "    c, s = np.cos(ang_rot), np.sin(ang_rot)\n",
    "    R = np.array(((c, -s), (s, c)))\n",
    "    return np.matmul(arr_pos, R)\n",
    "\n",
    "ang_rot = 0\n",
    "T = 600\n",
    "num_beams = 6\n",
    "num_cols = 3\n",
    "points_per_beam = T//num_beams\n",
    "trip_col = np.array([[1,0,1],[0,0.5,1],[0,0,1]])\n",
    "trip_col = np.tile(trip_col, (num_beams//num_cols, 1))\n",
    "trip_col = np.repeat(trip_col, points_per_beam, axis=0)\n",
    "\n",
    "while(True):\n",
    "    ang_rot += 0.1\n",
    "    arr_pos, arr_col = ellipser(scale_x=1, scale_y=1, f_x=1, f_y=1, f_s=num_beams, phase_s=shift, sintriang=0, colors=[(0,0,0),(1,1,1)], T=T)\n",
    "    queue.submit(rotate_pos(arr_pos, ang_rot), trip_col*arr_col)\n",
    "    queue.submit(0.75*rotate_pos(arr_pos, -ang_rot), trip_col*arr_col)\n",
    "    #queue.submit(0.50*rotate_pos(arr_pos,  ang_rot), trip_col*arr_col)\n",
    "    "
   ]
  },
  {
   "cell_type": "code",
   "execution_count": 34,
   "metadata": {},
   "outputs": [],
   "source": [
    "# ARC THAT EXPANDS\n",
    "T = 500\n",
    "theta = np.concatenate([np.linspace(0, np.pi, T//2), np.linspace(np.pi, 0, T//2)])\n",
    "arr_pos = np.zeros((T, 2))\n",
    "arr_pos[:, 0] = np.cos(theta)\n",
    "arr_pos[:, 1] = np.sin(theta)\n",
    "\n",
    "arr_col = np.ones((T, 3))\n",
    "\n",
    "num_steps = 100\n",
    "for i in range(num_steps//2):\n",
    "    arr_col_out = arr_col*np.logical_and(theta[:, np.newaxis] < np.pi*i/num_steps + np.pi/2, theta[:, np.newaxis] > np.pi/2 - np.pi*i/num_steps)\n",
    "    queue.submit(arr_pos, arr_col_out)\n",
    "    \n",
    "for i in range(num_steps//2):\n",
    "    arr_col_out = arr_col*np.logical_or(theta[:, np.newaxis] > np.pi*i/num_steps + np.pi/2, theta[:, np.newaxis] < np.pi/2 - np.pi*i/num_steps)\n",
    "    queue.submit(arr_pos, arr_col_out)"
   ]
  },
  {
   "cell_type": "code",
   "execution_count": null,
   "metadata": {},
   "outputs": [],
   "source": [
    "# Frames -> Patterns -> Sequences"
   ]
  },
  {
   "cell_type": "code",
   "execution_count": 49,
   "metadata": {},
   "outputs": [
    {
     "ename": "KeyboardInterrupt",
     "evalue": "",
     "output_type": "error",
     "traceback": [
      "\u001b[0;31m---------------------------------------------------------------------------\u001b[0m",
      "\u001b[0;31mKeyboardInterrupt\u001b[0m                         Traceback (most recent call last)",
      "\u001b[0;32m<ipython-input-49-7e143255ab16>\u001b[0m in \u001b[0;36m<module>\u001b[0;34m\u001b[0m\n\u001b[1;32m     20\u001b[0m         \u001b[0mi\u001b[0m \u001b[0;34m-=\u001b[0m \u001b[0;36m20\u001b[0m\u001b[0;34m\u001b[0m\u001b[0;34m\u001b[0m\u001b[0m\n\u001b[1;32m     21\u001b[0m         \u001b[0marr_col_out\u001b[0m \u001b[0;34m=\u001b[0m \u001b[0marr_col_out\u001b[0m\u001b[0;34m*\u001b[0m\u001b[0mnp\u001b[0m\u001b[0;34m.\u001b[0m\u001b[0mlogical_or\u001b[0m\u001b[0;34m(\u001b[0m\u001b[0mtheta\u001b[0m\u001b[0;34m[\u001b[0m\u001b[0;34m:\u001b[0m\u001b[0;34m,\u001b[0m \u001b[0mnp\u001b[0m\u001b[0;34m.\u001b[0m\u001b[0mnewaxis\u001b[0m\u001b[0;34m]\u001b[0m \u001b[0;34m>\u001b[0m \u001b[0mnp\u001b[0m\u001b[0;34m.\u001b[0m\u001b[0mpi\u001b[0m\u001b[0;34m*\u001b[0m\u001b[0mi\u001b[0m\u001b[0;34m/\u001b[0m\u001b[0mnum_steps\u001b[0m \u001b[0;34m+\u001b[0m \u001b[0mnp\u001b[0m\u001b[0;34m.\u001b[0m\u001b[0mpi\u001b[0m\u001b[0;34m/\u001b[0m\u001b[0;36m2\u001b[0m\u001b[0;34m,\u001b[0m \u001b[0mtheta\u001b[0m\u001b[0;34m[\u001b[0m\u001b[0;34m:\u001b[0m\u001b[0;34m,\u001b[0m \u001b[0mnp\u001b[0m\u001b[0;34m.\u001b[0m\u001b[0mnewaxis\u001b[0m\u001b[0;34m]\u001b[0m \u001b[0;34m<\u001b[0m \u001b[0mnp\u001b[0m\u001b[0;34m.\u001b[0m\u001b[0mpi\u001b[0m\u001b[0;34m/\u001b[0m\u001b[0;36m2\u001b[0m \u001b[0;34m-\u001b[0m \u001b[0mnp\u001b[0m\u001b[0;34m.\u001b[0m\u001b[0mpi\u001b[0m\u001b[0;34m*\u001b[0m\u001b[0mi\u001b[0m\u001b[0;34m/\u001b[0m\u001b[0mnum_steps\u001b[0m\u001b[0;34m)\u001b[0m\u001b[0;34m\u001b[0m\u001b[0;34m\u001b[0m\u001b[0m\n\u001b[0;32m---> 22\u001b[0;31m         \u001b[0mqueue\u001b[0m\u001b[0;34m.\u001b[0m\u001b[0msubmit\u001b[0m\u001b[0;34m(\u001b[0m\u001b[0marr_pos\u001b[0m\u001b[0;34m,\u001b[0m \u001b[0marr_col_out\u001b[0m\u001b[0;34m)\u001b[0m\u001b[0;34m\u001b[0m\u001b[0;34m\u001b[0m\u001b[0m\n\u001b[0m",
      "\u001b[0;32m~/PersonalProjects/helios_dac/sdk/examples/python/laser_lib.py\u001b[0m in \u001b[0;36msubmit\u001b[0;34m(self, pat_pos, pat_col, angular_density, debug)\u001b[0m\n\u001b[1;32m     67\u001b[0m         \u001b[0mself\u001b[0m\u001b[0;34m.\u001b[0m\u001b[0mwrite_frames\u001b[0m\u001b[0;34m(\u001b[0m\u001b[0mgap_points\u001b[0m\u001b[0;34m,\u001b[0m \u001b[0mnum_gap_points\u001b[0m\u001b[0;34m,\u001b[0m \u001b[0mdo_not_loop\u001b[0m\u001b[0;34m=\u001b[0m\u001b[0;32mTrue\u001b[0m\u001b[0;34m,\u001b[0m \u001b[0mdebug\u001b[0m\u001b[0;34m=\u001b[0m\u001b[0mdebug\u001b[0m\u001b[0;34m)\u001b[0m\u001b[0;34m\u001b[0m\u001b[0;34m\u001b[0m\u001b[0m\n\u001b[1;32m     68\u001b[0m         \u001b[0;31m# Send the new pattern to the dac\u001b[0m\u001b[0;34m\u001b[0m\u001b[0;34m\u001b[0m\u001b[0;34m\u001b[0m\u001b[0m\n\u001b[0;32m---> 69\u001b[0;31m         \u001b[0mself\u001b[0m\u001b[0;34m.\u001b[0m\u001b[0mwrite_frames\u001b[0m\u001b[0;34m(\u001b[0m\u001b[0mpat_points\u001b[0m\u001b[0;34m,\u001b[0m \u001b[0mnum_pat_points\u001b[0m\u001b[0;34m,\u001b[0m \u001b[0mdo_not_loop\u001b[0m\u001b[0;34m=\u001b[0m\u001b[0;32mTrue\u001b[0m\u001b[0;34m,\u001b[0m \u001b[0mdebug\u001b[0m\u001b[0;34m=\u001b[0m\u001b[0mdebug\u001b[0m\u001b[0;34m)\u001b[0m\u001b[0;34m\u001b[0m\u001b[0;34m\u001b[0m\u001b[0m\n\u001b[0m\u001b[1;32m     70\u001b[0m         \u001b[0;31m# Set the last_position\u001b[0m\u001b[0;34m\u001b[0m\u001b[0;34m\u001b[0m\u001b[0;34m\u001b[0m\u001b[0m\n\u001b[1;32m     71\u001b[0m         \u001b[0mself\u001b[0m\u001b[0;34m.\u001b[0m\u001b[0mlast_pos\u001b[0m \u001b[0;34m=\u001b[0m \u001b[0mpat_pos\u001b[0m\u001b[0;34m[\u001b[0m\u001b[0;34m-\u001b[0m\u001b[0;36m1\u001b[0m\u001b[0;34m,\u001b[0m \u001b[0;34m:\u001b[0m\u001b[0;34m]\u001b[0m\u001b[0;34m.\u001b[0m\u001b[0mcopy\u001b[0m\u001b[0;34m(\u001b[0m\u001b[0;34m)\u001b[0m\u001b[0;34m\u001b[0m\u001b[0;34m\u001b[0m\u001b[0m\n",
      "\u001b[0;32m~/PersonalProjects/helios_dac/sdk/examples/python/laser_lib.py\u001b[0m in \u001b[0;36mwrite_frames\u001b[0;34m(self, points, num_points, do_not_loop, start_immediately, debug)\u001b[0m\n\u001b[1;32m    120\u001b[0m         \u001b[0;31m# Send to DAC\u001b[0m\u001b[0;34m\u001b[0m\u001b[0;34m\u001b[0m\u001b[0;34m\u001b[0m\u001b[0m\n\u001b[1;32m    121\u001b[0m         \u001b[0mframe_rate\u001b[0m \u001b[0;34m=\u001b[0m \u001b[0mself\u001b[0m\u001b[0;34m.\u001b[0m\u001b[0mdebug_rate\u001b[0m \u001b[0;32mif\u001b[0m \u001b[0mdebug\u001b[0m \u001b[0;32melse\u001b[0m \u001b[0mself\u001b[0m\u001b[0;34m.\u001b[0m\u001b[0mdac_rate\u001b[0m\u001b[0;34m\u001b[0m\u001b[0;34m\u001b[0m\u001b[0m\n\u001b[0;32m--> 122\u001b[0;31m         \u001b[0mself\u001b[0m\u001b[0;34m.\u001b[0m\u001b[0mdac\u001b[0m\u001b[0;34m.\u001b[0m\u001b[0mHeliosLib\u001b[0m\u001b[0;34m.\u001b[0m\u001b[0mWriteFrame\u001b[0m\u001b[0;34m(\u001b[0m\u001b[0;36m0\u001b[0m\u001b[0;34m,\u001b[0m \u001b[0mframe_rate\u001b[0m\u001b[0;34m,\u001b[0m \u001b[0mflags\u001b[0m\u001b[0;34m,\u001b[0m \u001b[0mctypes\u001b[0m\u001b[0;34m.\u001b[0m\u001b[0mpointer\u001b[0m\u001b[0;34m(\u001b[0m\u001b[0mpoints\u001b[0m\u001b[0;34m)\u001b[0m\u001b[0;34m,\u001b[0m \u001b[0mnum_points\u001b[0m\u001b[0;34m)\u001b[0m\u001b[0;34m\u001b[0m\u001b[0;34m\u001b[0m\u001b[0m\n\u001b[0m\u001b[1;32m    123\u001b[0m \u001b[0;34m\u001b[0m\u001b[0m\n\u001b[1;32m    124\u001b[0m \u001b[0;32mdef\u001b[0m \u001b[0mcolor_correction\u001b[0m\u001b[0;34m(\u001b[0m\u001b[0marr_col\u001b[0m\u001b[0;34m,\u001b[0m \u001b[0mcolor_shifts\u001b[0m\u001b[0;34m=\u001b[0m\u001b[0;34m[\u001b[0m\u001b[0;34m]\u001b[0m\u001b[0;34m)\u001b[0m\u001b[0;34m:\u001b[0m\u001b[0;34m\u001b[0m\u001b[0;34m\u001b[0m\u001b[0m\n",
      "\u001b[0;31mKeyboardInterrupt\u001b[0m: "
     ]
    }
   ],
   "source": [
    "# ARC THAT EXPANDS\n",
    "T = 500\n",
    "theta = np.concatenate([np.linspace(0, np.pi, T//2), np.linspace(np.pi, 0, T//2)])\n",
    "arr_pos = np.zeros((T, 2))\n",
    "arr_pos[:, 0] = np.cos(theta)\n",
    "arr_pos[:, 1] = np.sin(theta)\n",
    "\n",
    "arr_col = np.ones((T, 3))\n",
    "\n",
    "num_steps = 100\n",
    "while(True):\n",
    "    for i in range(num_steps-30):\n",
    "        arr_col_out = arr_col*np.logical_and(theta[:, np.newaxis] < np.pi*i/num_steps + np.pi/2, theta[:, np.newaxis] > np.pi/2 - np.pi*i/num_steps)\n",
    "        i -= 20\n",
    "        arr_col_out = arr_col_out*np.logical_or(theta[:, np.newaxis] > np.pi*i/num_steps + np.pi/2, theta[:, np.newaxis] < np.pi/2 - np.pi*i/num_steps)\n",
    "        queue.submit(arr_pos, arr_col_out)\n",
    "\n",
    "    for i in range(num_steps-30):\n",
    "        arr_col_out = arr_col*np.logical_and(theta[:, np.newaxis] < np.pi*i/num_steps + np.pi/2, theta[:, np.newaxis] > np.pi/2 - np.pi*i/num_steps)\n",
    "        i -= 20\n",
    "        arr_col_out = arr_col_out*np.logical_or(theta[:, np.newaxis] > np.pi*i/num_steps + np.pi/2, theta[:, np.newaxis] < np.pi/2 - np.pi*i/num_steps)\n",
    "        queue.submit(arr_pos, arr_col_out)\n"
   ]
  },
  {
   "cell_type": "code",
   "execution_count": 39,
   "metadata": {},
   "outputs": [
    {
     "name": "stdout",
     "output_type": "stream",
     "text": [
      "0\n",
      "20\n",
      "1\n",
      "21\n",
      "2\n",
      "22\n",
      "3\n",
      "23\n",
      "4\n",
      "24\n",
      "5\n",
      "25\n",
      "6\n",
      "26\n",
      "7\n",
      "27\n",
      "8\n",
      "28\n",
      "9\n",
      "29\n"
     ]
    }
   ],
   "source": [
    "for i in range(10):\n",
    "    print(i)\n",
    "    i += 20\n",
    "    print(i)"
   ]
  },
  {
   "cell_type": "code",
   "execution_count": null,
   "metadata": {},
   "outputs": [],
   "source": [
    "thet = 2\n",
    "x = 0.5"
   ]
  },
  {
   "cell_type": "code",
   "execution_count": null,
   "metadata": {},
   "outputs": [],
   "source": [
    "theta + pi/ 2 > x & theta + pi/ 2 < x"
   ]
  },
  {
   "cell_type": "code",
   "execution_count": null,
   "metadata": {},
   "outputs": [],
   "source": [
    "x = np.array([True, True, False, False])\n",
    "y = np.array([True, False, True, False])\n",
    "print(np.logical_or(x, y))\n",
    "print(np.logical_and(x, y))"
   ]
  },
  {
   "cell_type": "code",
   "execution_count": null,
   "metadata": {},
   "outputs": [],
   "source": [
    "print(queue.dac_rate)"
   ]
  },
  {
   "cell_type": "code",
   "execution_count": 25,
   "metadata": {},
   "outputs": [
    {
     "name": "stdout",
     "output_type": "stream",
     "text": [
      "180\n"
     ]
    }
   ],
   "source": [
    "# Time of the entire pattern\n",
    "Ts = 6.0\n",
    "# Points per frame\n",
    "T = 1000\n",
    "# Time per frame\n",
    "Tf = T/queue.dac_rate\n",
    "# Time for each segment\n",
    "T_seg = 1.0\n",
    "\n",
    "num_frames = int(Ts/Tf)\n",
    "print(num_frames)\n",
    "theta = np.concatenate([np.linspace(0, np.pi, T//2), np.linspace(np.pi, 0, T//2)])\n",
    "arr_pos = np.zeros((T, 2))\n",
    "arr_col = np.ones((T, 3))\n",
    "arr_pos[:, 0] = np.cos(theta)\n",
    "arr_pos[:, 1] = np.sin(theta)\n",
    "for frame_idx in range(num_frames):\n",
    "    queue.submit(arr_pos, arr_col)\n",
    "    \n",
    "\n",
    "    "
   ]
  },
  {
   "cell_type": "code",
   "execution_count": 6,
   "metadata": {},
   "outputs": [
    {
     "data": {
      "text/plain": [
       "0.03333333333333333"
      ]
     },
     "execution_count": 6,
     "metadata": {},
     "output_type": "execute_result"
    }
   ],
   "source": [
    "Tf"
   ]
  },
  {
   "cell_type": "code",
   "execution_count": null,
   "metadata": {},
   "outputs": [],
   "source": []
  }
 ],
 "metadata": {
  "kernelspec": {
   "display_name": "Python 3",
   "language": "python",
   "name": "python3"
  },
  "language_info": {
   "codemirror_mode": {
    "name": "ipython",
    "version": 3
   },
   "file_extension": ".py",
   "mimetype": "text/x-python",
   "name": "python",
   "nbconvert_exporter": "python",
   "pygments_lexer": "ipython3",
   "version": "3.8.5"
  }
 },
 "nbformat": 4,
 "nbformat_minor": 4
}
