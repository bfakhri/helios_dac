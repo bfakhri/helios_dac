{
 "cells": [
  {
   "cell_type": "code",
   "execution_count": null,
   "metadata": {},
   "outputs": [],
   "source": [
    "import laser_lib\n",
    "import numpy as np\n",
    "import math\n",
    "import time\n",
    "import cv2\n",
    "from skimage.color import rgb2lab, lab2rgb"
   ]
  },
  {
   "cell_type": "code",
   "execution_count": null,
   "metadata": {},
   "outputs": [],
   "source": [
    "queue = laser_lib.DacQueue()"
   ]
  },
  {
   "cell_type": "code",
   "execution_count": null,
   "metadata": {},
   "outputs": [],
   "source": [
    "def signer(f, T, phase=0.0):\n",
    "    '''\n",
    "    Produces spaced out points from 0 to 1 whose distance between \n",
    "    consecutive points is sinusoidal \n",
    "    Input:  f - frequency \n",
    "            T - number of samples\n",
    "            phase - phase shift (0, 1)\n",
    "    Returns: x - positions on the line\n",
    "             dx - the derivative of the function of x\n",
    "    '''\n",
    "    # Convert to radians\n",
    "    f = f*2*np.pi\n",
    "    # Generate the baseline \n",
    "    t = np.linspace(0.0+phase, 1.0+phase, T)\n",
    "    # Find points \n",
    "    x = (f*t - np.cos(f*t) + 1)/f\n",
    "    # Calculate derivative\n",
    "    dx = (np.sin(f*t) + 1)/2\n",
    "    \n",
    "    return x, dx\n",
    "\n",
    "def triangle(theta, alpha, sincos='sin'):\n",
    "    '''\n",
    "    Returns a wave between a sine wave and triangle wave depending on alpha\n",
    "    alpha = 0 - sine wave\n",
    "    alpha = 1 - triangle wave\n",
    "    '''\n",
    "    if(sincos == 'sin'):\n",
    "        ps = 0\n",
    "    elif(sincos == 'cos'):\n",
    "        ps = np.pi/2\n",
    "    return alpha*2*np.arcsin(np.sin(theta + ps))/np.pi + (1-alpha)*np.sin(theta + ps)\n",
    "    \n",
    "def ellipser(scale_x=1, scale_y=1, f_x=1, f_y=1, f_s=1000, phase_s=0, sintriang=0, colors=[(1,1,1)], T=500):\n",
    "    '''\n",
    "    Generates a pattern that is a function of ellipses \n",
    "    with parameters that can be interpolated between\n",
    "    '''\n",
    "    theta_norm, theta_dx = signer(f=f_s, phase=phase_s, T=T)\n",
    "    theta = theta_norm*2*np.pi\n",
    "    arr_pos = np.zeros((T, 2))\n",
    "    arr_pos[:,0] = scale_x*triangle(f_x*theta, sintriang, 'sin')\n",
    "    arr_pos[:,1] = scale_y*triangle(f_y*theta, sintriang, 'cos')\n",
    "    \n",
    "    # Color the pattern\n",
    "    arr_col = np.ones((T, 3), np.float32)\n",
    "    if(len(colors) == 1):\n",
    "        # All one color\n",
    "        arr_col[:, :] = colors[0][np.newaxis, :]\n",
    "    if(len(colors) == 2):\n",
    "        # Color based on speed of laser\n",
    "        arr_col[theta_dx > 0.1, :] = colors[0]\n",
    "        arr_col[theta_dx <= 0.1, :] = colors[1]\n",
    "    \n",
    "    return arr_pos, arr_col\n"
   ]
  },
  {
   "cell_type": "markdown",
   "metadata": {},
   "source": [
    "### Beam pairs flashing back and forth"
   ]
  },
  {
   "cell_type": "code",
   "execution_count": null,
   "metadata": {},
   "outputs": [],
   "source": [
    "T = 1000\n",
    "theta = np.linspace(0, 2*np.pi, T)\n",
    "freq = 10\n",
    "arr_pos_l = np.zeros((T, 2))\n",
    "arr_pos_r = np.zeros((T, 2))\n",
    "arr_col_l = np.zeros((T, 3))\n",
    "arr_col_r = np.zeros((T, 3))\n",
    "scaler = 0.75\n",
    "arr_pos[:, 0] = np.cos(freq*theta)\n",
    "arr_pos_l[:, 0] = np.cos(freq*theta)*scaler + (1-scaler)\n",
    "arr_pos_r[:, 0] = np.cos(freq*theta)*scaler - (1-scaler)\n",
    "arr_col_l[arr_pos[:,0] >  0.99, :] = np.array([1,1,1])/6\n",
    "arr_col_r[arr_pos[:,0] < -0.99, :] = np.array([1,1,1])/6\n",
    "arr_col_l[arr_pos[:,0] < -0.99, :] = np.array([1,0,1])\n",
    "arr_col_r[arr_pos[:,0] >  0.99, :] = np.array([1,0,1])\n",
    "\n",
    "stay = 10\n",
    "while(True):\n",
    "    for i in range(stay):\n",
    "        queue.submit(arr_pos_l, arr_col_l)\n",
    "        \n",
    "    for i in range(stay):\n",
    "        queue.submit(arr_pos_r, arr_col_r)"
   ]
  },
  {
   "cell_type": "markdown",
   "metadata": {},
   "source": [
    "### Concentric, Rotating, Discrete Beam Circles"
   ]
  },
  {
   "cell_type": "code",
   "execution_count": null,
   "metadata": {},
   "outputs": [],
   "source": [
    "def rotate_pos(arr_pos, ang_rot):\n",
    "    '''\n",
    "    Rotates all points in arr_pos by ang_rot radians\n",
    "    '''\n",
    "    c, s = np.cos(ang_rot), np.sin(ang_rot)\n",
    "    R = np.array(((c, -s), (s, c)))\n",
    "    return np.matmul(arr_pos, R)\n",
    "\n",
    "ang_rot = 0\n",
    "T = 300\n",
    "num_beams = 6\n",
    "num_cols = 3\n",
    "points_per_beam = T//num_beams\n",
    "trip_col = np.array([[1,0,1],[0,0.5,1],[0,0,1]])\n",
    "trip_col = np.tile(trip_col, (num_beams//num_cols, 1))\n",
    "trip_col = np.repeat(trip_col, points_per_beam, axis=0)\n",
    "\n",
    "while(True):\n",
    "    ang_rot += 0.01\n",
    "    arr_pos, arr_col = ellipser(scale_x=1, scale_y=1, f_x=1, f_y=1, f_s=num_beams, phase_s=0, sintriang=0, colors=[(0,0,0),(1,1,1)], T=T)\n",
    "    queue.submit(rotate_pos(arr_pos, ang_rot), trip_col*arr_col)\n",
    "    queue.submit(0.75*rotate_pos(arr_pos, -ang_rot), trip_col*arr_col)\n",
    "    queue.submit(0.50*rotate_pos(arr_pos,  ang_rot), trip_col*arr_col)\n",
    "    "
   ]
  },
  {
   "cell_type": "code",
   "execution_count": null,
   "metadata": {},
   "outputs": [],
   "source": [
    "# ARC THAT EXPANDS\n",
    "T = 500\n",
    "theta = np.concatenate([np.linspace(0, np.pi, T//2), np.linspace(np.pi, 0, T//2)])\n",
    "arr_pos = np.zeros((T, 2))\n",
    "arr_pos[:, 0] = np.cos(theta)\n",
    "arr_pos[:, 1] = np.sin(theta)\n",
    "\n",
    "arr_col = np.ones((T, 3))\n",
    "\n",
    "num_steps = 100\n",
    "for i in range(num_steps//2):\n",
    "    arr_col_out = arr_col*np.logical_and(theta[:, np.newaxis] < np.pi*i/num_steps + np.pi/2, theta[:, np.newaxis] > np.pi/2 - np.pi*i/num_steps)\n",
    "    queue.submit(arr_pos, arr_col_out)\n",
    "    \n",
    "for i in range(num_steps//2):\n",
    "    arr_col_out = arr_col*np.logical_or(theta[:, np.newaxis] > np.pi*i/num_steps + np.pi/2, theta[:, np.newaxis] < np.pi/2 - np.pi*i/num_steps)\n",
    "    queue.submit(arr_pos, arr_col_out)"
   ]
  },
  {
   "cell_type": "code",
   "execution_count": null,
   "metadata": {},
   "outputs": [],
   "source": [
    "# Frames -> Patterns -> Sequences"
   ]
  },
  {
   "cell_type": "code",
   "execution_count": null,
   "metadata": {},
   "outputs": [],
   "source": [
    "# ARC THAT EXPANDS\n",
    "T = 500\n",
    "theta = np.concatenate([np.linspace(0, np.pi, T//2), np.linspace(np.pi, 0, T//2)])\n",
    "arr_pos = np.zeros((T, 2))\n",
    "arr_pos[:, 0] = np.cos(theta)\n",
    "arr_pos[:, 1] = np.sin(theta)\n",
    "\n",
    "arr_col = np.ones((T, 3))\n",
    "\n",
    "num_steps = 100\n",
    "while(True):\n",
    "    #Arc disappears from right and left side of circle (0)     \n",
    "    for i in range(num_steps//2):\n",
    "        arr_col_out = arr_col*np.logical_and(theta[:, np.newaxis] > np.pi*i/num_steps, theta[:, np.newaxis] < np.pi - np.pi*i/num_steps)\n",
    "        queue.submit(arr_pos, arr_col_out)\n",
    "        \n",
    "        \n"
   ]
  },
  {
   "cell_type": "code",
   "execution_count": null,
   "metadata": {},
   "outputs": [],
   "source": [
    "np.zeros((5, 3))[...,np.newaxis].shape"
   ]
  },
  {
   "cell_type": "markdown",
   "metadata": {},
   "source": [
    "## Straight Up Villain (Chorus) "
   ]
  },
  {
   "cell_type": "code",
   "execution_count": null,
   "metadata": {},
   "outputs": [],
   "source": [
    "# This pattern is for the chorus, it is repeated throughout the song\n",
    "\n",
    "# Time (seconds) between beats\n",
    "Tb = 0.375\n",
    "# Number of frames per beat\n",
    "T = int(Tb*queue.dac_rate)\n",
    "\n",
    "# 1) Beam fast move twice (2 beats)\n",
    "# 2) Beam slow move once (2 beats)\n",
    "# 3) Beams split\n",
    "\n",
    "# test with just one beam \n",
    "p1 = np.array([-1, -1])\n",
    "p2 = np.array([ 1, -1])\n",
    "\n",
    "arr_pos = np.linspace(p1, p2, T)\n",
    "arr_col = np.ones((T, 3))\n",
    "print(arr_pos.shape, arr_col.shape)\n",
    "queue.submit(arr_pos, arr_col)\n",
    "    \n"
   ]
  },
  {
   "cell_type": "code",
   "execution_count": null,
   "metadata": {},
   "outputs": [],
   "source": [
    "# Start off with a certain number of beams \n",
    "num_beams_init = 2\n",
    "num_splits = 3\n",
    "num_beams_end = num_beams_init**(num_splits+1)\n",
    "\n",
    "axes = 1 # Symmetries, this increases w/ every split\n"
   ]
  },
  {
   "cell_type": "code",
   "execution_count": null,
   "metadata": {},
   "outputs": [],
   "source": [
    "num_beams_end"
   ]
  },
  {
   "cell_type": "code",
   "execution_count": null,
   "metadata": {},
   "outputs": [],
   "source": [
    "# "
   ]
  },
  {
   "cell_type": "code",
   "execution_count": null,
   "metadata": {},
   "outputs": [],
   "source": []
  },
  {
   "cell_type": "code",
   "execution_count": null,
   "metadata": {},
   "outputs": [],
   "source": []
  },
  {
   "cell_type": "code",
   "execution_count": null,
   "metadata": {},
   "outputs": [],
   "source": []
  }
 ],
 "metadata": {
  "kernelspec": {
   "display_name": "Python 3",
   "language": "python",
   "name": "python3"
  },
  "language_info": {
   "codemirror_mode": {
    "name": "ipython",
    "version": 3
   },
   "file_extension": ".py",
   "mimetype": "text/x-python",
   "name": "python",
   "nbconvert_exporter": "python",
   "pygments_lexer": "ipython3",
   "version": "3.8.5"
  }
 },
 "nbformat": 4,
 "nbformat_minor": 4
}
