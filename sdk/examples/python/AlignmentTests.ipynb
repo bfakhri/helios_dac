{
 "cells": [
  {
   "cell_type": "code",
   "execution_count": null,
   "metadata": {},
   "outputs": [],
   "source": [
    "import laser_lib\n",
    "import numpy as np\n",
    "import math\n",
    "import time\n",
    "import cv2\n",
    "from skimage.color import rgb2lab, lab2rgb"
   ]
  },
  {
   "cell_type": "code",
   "execution_count": null,
   "metadata": {},
   "outputs": [],
   "source": [
    "queue = laser_lib.DacQueue()"
   ]
  },
  {
   "cell_type": "markdown",
   "metadata": {},
   "source": [
    "## Color Alignment"
   ]
  },
  {
   "cell_type": "code",
   "execution_count": null,
   "metadata": {},
   "outputs": [],
   "source": [
    "#queue.color_shifts = [11, 10, 9]\n",
    "queue.color_shifts = [5, 5, 4]\n",
    "#queue.color_shifts = []\n",
    "for dac_rate in range(20000, 55000, 1000):\n",
    "#for i in range(100):\n",
    "    #queue.dac_rate = dac_rate\n",
    "    queue.dac_rate = 30000\n",
    "    for T in range(500, 1500, 100):\n",
    "        freq = 4\n",
    "        theta = np.linspace(0, freq*2*np.pi, T)\n",
    "        arr_pos = np.zeros((T, 2))\n",
    "        arr_pos[:, 0] = np.concatenate([np.linspace(-1.0, 1.0, T//2), np.linspace(1.0, -1.0, T//2)])\n",
    "        arr_pos[:, 1] = np.sin(theta)\n",
    "\n",
    "        arr_col = np.zeros((T, 3))\n",
    "        arr_col[:, :] = (np.abs(arr_pos[:, 1]) > 0.99)[:, np.newaxis]\n",
    "\n",
    "        queue.submit(arr_pos, arr_col)\n",
    "\n",
    "        print(dac_rate, T, end='\\r')\n",
    "\n"
   ]
  },
  {
   "cell_type": "markdown",
   "metadata": {},
   "source": [
    "## Axes Alignments"
   ]
  },
  {
   "cell_type": "code",
   "execution_count": null,
   "metadata": {},
   "outputs": [],
   "source": [
    "bottom_left =  [-1, -1, 1, 0, 0] # Red\n",
    "bottom_right = [ 1, -1, 0, 1, 0] # Green \n",
    "top_right =    [ 1,  1, 0, 0, 1] # Blue\n",
    "top_left =     [-1,  1, 1, 1, 1] # White\n",
    "\n",
    "\n",
    "\n",
    "pos_list_l = [top_left, top_right, bottom_right, bottom_left]\n",
    "pos_list = [np.array(pos[0:2]) for pos in pos_list_l]\n",
    "col_list = [np.array(pos[2:5]) for pos in pos_list_l]\n",
    "\n",
    "T = 500\n",
    "for idx in range(1000):\n",
    "        arr_pos = np.ones((T, 2))*pos_list[idx%len(pos_list)][np.newaxis,:]\n",
    "        arr_col = np.ones((T, 3))*col_list[idx%len(col_list)][np.newaxis,:]\n",
    "        queue.submit(arr_pos, arr_col)"
   ]
  },
  {
   "cell_type": "code",
   "execution_count": null,
   "metadata": {},
   "outputs": [],
   "source": []
  }
 ],
 "metadata": {
  "kernelspec": {
   "display_name": "Python 3",
   "language": "python",
   "name": "python3"
  },
  "language_info": {
   "codemirror_mode": {
    "name": "ipython",
    "version": 3
   },
   "file_extension": ".py",
   "mimetype": "text/x-python",
   "name": "python",
   "nbconvert_exporter": "python",
   "pygments_lexer": "ipython3",
   "version": "3.8.5"
  }
 },
 "nbformat": 4,
 "nbformat_minor": 4
}
