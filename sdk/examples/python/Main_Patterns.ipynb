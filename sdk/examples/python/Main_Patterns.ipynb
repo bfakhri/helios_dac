{
 "cells": [
  {
   "cell_type": "code",
   "execution_count": 1,
   "metadata": {},
   "outputs": [
    {
     "name": "stdout",
     "output_type": "stream",
     "text": [
      "Found  1 Helios DACs\n"
     ]
    }
   ],
   "source": [
    "import ctypes\n",
    "import numpy as np\n",
    "import math\n",
    "import time\n",
    "\n",
    "#Define point structure\n",
    "class HeliosPoint(ctypes.Structure):\n",
    "    #_pack_=1\n",
    "    _fields_ = [('x', ctypes.c_uint16),\n",
    "                ('y', ctypes.c_uint16),\n",
    "                ('r', ctypes.c_uint8),\n",
    "                ('g', ctypes.c_uint8),\n",
    "                ('b', ctypes.c_uint8),\n",
    "                ('i', ctypes.c_uint8)]\n",
    "class Dac:\n",
    "    def __init__(self):\n",
    "        #Load and initialize library\n",
    "        self.HeliosLib = ctypes.cdll.LoadLibrary(\"./libHeliosDacAPI.so\")\n",
    "        self.num_devices = self.HeliosLib.OpenDevices()\n",
    "        print(\"Found \", self.num_devices, \"Helios DACs\")\n",
    "        # Define limits\n",
    "        self.xy_max = int(2**12-1)\n",
    "\n",
    "dac = Dac()"
   ]
  },
  {
   "cell_type": "code",
   "execution_count": 99,
   "metadata": {},
   "outputs": [],
   "source": [
    "# Define update function\n",
    "def dacpos(x, y, r, g, b, lum, dac):\n",
    "    #Constants\n",
    "    dac_rate = 65000 # very low, change to higher\n",
    "    dac_idx = 0\n",
    "    num_points = 1\n",
    "    \n",
    "    # Maps x, y from [-1, 1] to [0, xy_max]\n",
    "    x_dac = int(float((x + 1)/2)*dac.xy_max)\n",
    "    y_dac = int(float((y + 1)/2)*dac.xy_max)\n",
    "    \n",
    "    # Scale the colors by the luminance\n",
    "    r_dac = int(lum*r)\n",
    "    g_dac = int(lum*g)\n",
    "    b_dac = int(lum*b)\n",
    "    # Make frame\n",
    "    frame = HeliosPoint(x_dac, y_dac, r_dac, g_dac, b_dac, 255)\n",
    "    # Post frame\n",
    "    status_attempts = 0\n",
    "    while (status_attempts < 512 and dac.HeliosLib.GetStatus(dac_idx) != 1):\n",
    "        status_attempts += 1\n",
    "        print('Too fast!')\n",
    "    dac.HeliosLib.WriteFrame(dac_idx, dac_rate, 0, ctypes.pointer(frame), num_points)\n",
    "\n",
    "    \n",
    "def color_correction(arr_color):\n",
    "    '''\n",
    "    Corrects the nonlinearities in the color curve \n",
    "    '''\n",
    "    #arr_color = np.exp(np.log(2)*np.power(arr_color,1)) - 1\n",
    "    # Scale to the lower cutoff (R, G, B)\n",
    "    lower_cutoff = np.array([0.25, 0.09, 0.09])\n",
    "    arr_color = arr_color*(1-lower_cutoff) + lower_cutoff\n",
    "    \n",
    "    return arr_color\n",
    "\n",
    "def position_corection(arr_pos):\n",
    "    '''\n",
    "    Corrects x-y directions so that (x=-1,y=-1) is bottom left\n",
    "    Scales the entire pattern so that it does not clip (amps are weird)\n",
    "    '''\n",
    "    # Reverse direction of x and y\n",
    "    arr_pos *= -1\n",
    "    \n",
    "    max_scale = 0.75\n",
    "    return arr_pos*max_scale\n",
    "    \n",
    "def dacpos_batch(arr_pos, arr_col, dac):\n",
    "    '''\n",
    "    1) Scales and color corrects \n",
    "    2) Converts from unit space to DAC coordinates\n",
    "    3) Produces a DAC compatible frame and displays it\n",
    "    '''\n",
    "    # Force pass-by-value\n",
    "    arr_pos = arr_pos.copy()\n",
    "    arr_col = arr_col.copy()\n",
    "    # Scale the pattern \n",
    "    arr_pos = position_corection(arr_pos)\n",
    "    # Format the position array (-1.0-1.0) -> int(0-4095)\n",
    "    arr_pos = (((arr_pos+1)/2.0)*dac.xy_max).astype(np.int32)\n",
    "    \n",
    "    # Perform color correction\n",
    "    arr_col = color_correction(arr_col)\n",
    "    # Format the color array (0-1.0) -> int(0-255)\n",
    "    arr_col = (arr_col*255).astype(np.int32)\n",
    "    # Fill a heliospoint arr with these values\n",
    "    num_points = len(arr_pos)\n",
    "    #print('making a frame with ', num_points)\n",
    "    \n",
    "    frameType = HeliosPoint * num_points\n",
    "    frame = frameType()\n",
    "    # Fill the frame\n",
    "    for idx in range(num_points):\n",
    "        frame[idx] =     HeliosPoint(int(arr_pos[idx, 0]), \n",
    "                                     int(arr_pos[idx, 1]), \n",
    "                                     int(arr_col[idx, 0]), \n",
    "                                     int(arr_col[idx, 1]),\n",
    "                                     int(arr_col[idx, 2]),\n",
    "                                     int(255))\n",
    "    # Write the values out \n",
    "    statusAttempts = 0\n",
    "    # Make 512 attempts for DAC status to be ready. After that, just give up and try to write the frame anyway\n",
    "    while(statusAttempts < 512 and dac.HeliosLib.GetStatus(0) != 1):\n",
    "        statusAttempts += 1\n",
    "            \n",
    "    dac.HeliosLib.WriteFrame(0, 55000, 0, ctypes.pointer(frame), num_points)\n",
    "    "
   ]
  },
  {
   "cell_type": "code",
   "execution_count": 19,
   "metadata": {},
   "outputs": [
    {
     "name": "stdout",
     "output_type": "stream",
     "text": [
      "making a frame with  1000\n"
     ]
    }
   ],
   "source": [
    "T = 1000\n",
    "theta = np.linspace(0, 2*np.pi, T)\n",
    "pos_arr = np.zeros((T, 2))\n",
    "pos_arr[:, 0] = np.cos(theta)\n",
    "pos_arr[:, 1] = np.sin(theta)\n",
    "\n",
    "start = (0.1, 1.0, 0.1)\n",
    "finish = (1.0, 0.1, 1.0)\n",
    "smooth = np.linspace(start, finish, T//2)\n",
    "\n",
    "color_arr = np.concatenate([smooth, smooth[::-1]])\n",
    "\n",
    "dacpos_batch(pos_arr, color_arr, dac)\n",
    "\n"
   ]
  },
  {
   "cell_type": "code",
   "execution_count": 115,
   "metadata": {},
   "outputs": [
    {
     "name": "stdout",
     "output_type": "stream",
     "text": [
      "float64\n"
     ]
    }
   ],
   "source": [
    "# Make a tri-colored circle\n",
    "# Make a tricolor circle\n",
    "T = 1000\n",
    "pos_arr = np.zeros((T, 2))\n",
    "col_arr = np.zeros((T, 3))\n",
    "\n",
    "# Set Xs and Ys\n",
    "theta = np.linspace(0, 2*np.pi, T)\n",
    "pos_arr[:,0] = np.cos(theta)\n",
    "pos_arr[:,1] = np.sin(theta)\n",
    "\n",
    "\n",
    "# Tri color the circle\n",
    "col_arr[theta < np.pi, 0] = 0\n",
    "col_arr[theta < np.pi, 1] = 0\n",
    "col_arr[theta < np.pi, 2] = 0.3\n",
    "col_arr[theta < (2/3)*np.pi, 0] = 0\n",
    "col_arr[theta < (2/3)*np.pi, 1] = 0.3\n",
    "col_arr[theta < (2/3)*np.pi, 2] = 0\n",
    "col_arr[theta < (1/3)*np.pi, 0] = 0.3\n",
    "col_arr[theta < (1/3)*np.pi, 1] = 0\n",
    "col_arr[theta < (1/3)*np.pi, 2] = 0\n",
    "\n",
    "dacpos_batch(pos_arr, col_arr, dac)\n",
    "print(pos_arr.dtype)"
   ]
  },
  {
   "cell_type": "code",
   "execution_count": 98,
   "metadata": {},
   "outputs": [
    {
     "name": "stdout",
     "output_type": "stream",
     "text": [
      "5\n"
     ]
    }
   ],
   "source": [
    "def func(x):\n",
    "    x = x + 1\n",
    "\n",
    "x = 5\n",
    "func(x)\n",
    "print(x)"
   ]
  },
  {
   "cell_type": "code",
   "execution_count": 108,
   "metadata": {
    "scrolled": true
   },
   "outputs": [
    {
     "ename": "KeyboardInterrupt",
     "evalue": "",
     "output_type": "error",
     "traceback": [
      "\u001b[0;31m---------------------------------------------------------------------------\u001b[0m",
      "\u001b[0;31mKeyboardInterrupt\u001b[0m                         Traceback (most recent call last)",
      "\u001b[0;32m<ipython-input-108-48526c86f60c>\u001b[0m in \u001b[0;36m<module>\u001b[0;34m\u001b[0m\n\u001b[1;32m      5\u001b[0m     \u001b[0;32mfor\u001b[0m \u001b[0mscale\u001b[0m \u001b[0;32min\u001b[0m \u001b[0mscales\u001b[0m\u001b[0;34m:\u001b[0m\u001b[0;34m\u001b[0m\u001b[0;34m\u001b[0m\u001b[0m\n\u001b[1;32m      6\u001b[0m         \u001b[0mnew_pos_arr\u001b[0m \u001b[0;34m=\u001b[0m \u001b[0mscale\u001b[0m\u001b[0;34m*\u001b[0m\u001b[0mpos_arr\u001b[0m\u001b[0;34m\u001b[0m\u001b[0;34m\u001b[0m\u001b[0m\n\u001b[0;32m----> 7\u001b[0;31m         \u001b[0mdacpos_batch\u001b[0m\u001b[0;34m(\u001b[0m\u001b[0mnew_pos_arr\u001b[0m\u001b[0;34m,\u001b[0m \u001b[0mcol_arr\u001b[0m\u001b[0;34m,\u001b[0m \u001b[0mdac\u001b[0m\u001b[0;34m)\u001b[0m\u001b[0;34m\u001b[0m\u001b[0;34m\u001b[0m\u001b[0m\n\u001b[0m\u001b[1;32m      8\u001b[0m         \u001b[0;31m#print(scale, new_pos_arr[0:4, 0])\u001b[0m\u001b[0;34m\u001b[0m\u001b[0;34m\u001b[0m\u001b[0;34m\u001b[0m\u001b[0m\n",
      "\u001b[0;32m<ipython-input-99-d401468e0322>\u001b[0m in \u001b[0;36mdacpos_batch\u001b[0;34m(arr_pos, arr_col, dac)\u001b[0m\n\u001b[1;32m     84\u001b[0m         \u001b[0mstatusAttempts\u001b[0m \u001b[0;34m+=\u001b[0m \u001b[0;36m1\u001b[0m\u001b[0;34m\u001b[0m\u001b[0;34m\u001b[0m\u001b[0m\n\u001b[1;32m     85\u001b[0m \u001b[0;34m\u001b[0m\u001b[0m\n\u001b[0;32m---> 86\u001b[0;31m     \u001b[0mdac\u001b[0m\u001b[0;34m.\u001b[0m\u001b[0mHeliosLib\u001b[0m\u001b[0;34m.\u001b[0m\u001b[0mWriteFrame\u001b[0m\u001b[0;34m(\u001b[0m\u001b[0;36m0\u001b[0m\u001b[0;34m,\u001b[0m \u001b[0;36m55000\u001b[0m\u001b[0;34m,\u001b[0m \u001b[0;36m0\u001b[0m\u001b[0;34m,\u001b[0m \u001b[0mctypes\u001b[0m\u001b[0;34m.\u001b[0m\u001b[0mpointer\u001b[0m\u001b[0;34m(\u001b[0m\u001b[0mframe\u001b[0m\u001b[0;34m)\u001b[0m\u001b[0;34m,\u001b[0m \u001b[0mnum_points\u001b[0m\u001b[0;34m)\u001b[0m\u001b[0;34m\u001b[0m\u001b[0;34m\u001b[0m\u001b[0m\n\u001b[0m\u001b[1;32m     87\u001b[0m \u001b[0;34m\u001b[0m\u001b[0m\n",
      "\u001b[0;31mKeyboardInterrupt\u001b[0m: "
     ]
    }
   ],
   "source": [
    "scales = np.concatenate([np.linspace(1.0, 0.5, 20), np.linspace(0.5, 1, 20)])\n",
    "\n",
    "import time\n",
    "while(True):\n",
    "    for scale in scales:\n",
    "        new_pos_arr = scale*pos_arr\n",
    "        dacpos_batch(new_pos_arr, col_arr, dac)\n",
    "        #print(scale, new_pos_arr[0:4, 0])\n"
   ]
  },
  {
   "cell_type": "code",
   "execution_count": 116,
   "metadata": {},
   "outputs": [
    {
     "name": "stdout",
     "output_type": "stream",
     "text": [
      "a:  (1000, 2) (1000, 3)\n",
      "(1000, 2) (1000, 3)\n",
      "(499, 2) (499, 3)\n",
      "(1000, 2) (1000, 3)\n",
      "(227, 2) (227, 3)\n",
      "(1000, 2) (1000, 3)\n",
      "(3726, 2) (3726, 3)\n",
      "b:  (2,) (3,)\n",
      "(2,) (3,)\n"
     ]
    },
    {
     "ename": "IndexError",
     "evalue": "too many indices for array: array is 1-dimensional, but 2 were indexed",
     "output_type": "error",
     "traceback": [
      "\u001b[0;31m---------------------------------------------------------------------------\u001b[0m",
      "\u001b[0;31mIndexError\u001b[0m                                Traceback (most recent call last)",
      "\u001b[0;32m<ipython-input-116-44a5b2324339>\u001b[0m in \u001b[0;36m<module>\u001b[0;34m\u001b[0m\n\u001b[1;32m      8\u001b[0m     \u001b[0;32mfor\u001b[0m \u001b[0mpos_arr\u001b[0m\u001b[0;34m,\u001b[0m \u001b[0mcol_arr\u001b[0m \u001b[0;32min\u001b[0m \u001b[0mzip\u001b[0m\u001b[0;34m(\u001b[0m\u001b[0mpos_list\u001b[0m\u001b[0;34m,\u001b[0m \u001b[0mcol_list\u001b[0m\u001b[0;34m)\u001b[0m\u001b[0;34m:\u001b[0m\u001b[0;34m\u001b[0m\u001b[0;34m\u001b[0m\u001b[0m\n\u001b[1;32m      9\u001b[0m         \u001b[0mprint\u001b[0m\u001b[0;34m(\u001b[0m\u001b[0mpos_arr\u001b[0m\u001b[0;34m.\u001b[0m\u001b[0mshape\u001b[0m\u001b[0;34m,\u001b[0m \u001b[0mcol_arr\u001b[0m\u001b[0;34m.\u001b[0m\u001b[0mshape\u001b[0m\u001b[0;34m)\u001b[0m\u001b[0;34m\u001b[0m\u001b[0;34m\u001b[0m\u001b[0m\n\u001b[0;32m---> 10\u001b[0;31m         \u001b[0mdacpos_batch\u001b[0m\u001b[0;34m(\u001b[0m\u001b[0mpos_arr\u001b[0m\u001b[0;34m,\u001b[0m \u001b[0mcol_arr\u001b[0m\u001b[0;34m,\u001b[0m \u001b[0mdac\u001b[0m\u001b[0;34m)\u001b[0m\u001b[0;34m\u001b[0m\u001b[0;34m\u001b[0m\u001b[0m\n\u001b[0m",
      "\u001b[0;32m<ipython-input-99-d401468e0322>\u001b[0m in \u001b[0;36mdacpos_batch\u001b[0;34m(arr_pos, arr_col, dac)\u001b[0m\n\u001b[1;32m     72\u001b[0m     \u001b[0;31m# Fill the frame\u001b[0m\u001b[0;34m\u001b[0m\u001b[0;34m\u001b[0m\u001b[0;34m\u001b[0m\u001b[0m\n\u001b[1;32m     73\u001b[0m     \u001b[0;32mfor\u001b[0m \u001b[0midx\u001b[0m \u001b[0;32min\u001b[0m \u001b[0mrange\u001b[0m\u001b[0;34m(\u001b[0m\u001b[0mnum_points\u001b[0m\u001b[0;34m)\u001b[0m\u001b[0;34m:\u001b[0m\u001b[0;34m\u001b[0m\u001b[0;34m\u001b[0m\u001b[0m\n\u001b[0;32m---> 74\u001b[0;31m         frame[idx] =     HeliosPoint(int(arr_pos[idx, 0]), \n\u001b[0m\u001b[1;32m     75\u001b[0m                                      \u001b[0mint\u001b[0m\u001b[0;34m(\u001b[0m\u001b[0marr_pos\u001b[0m\u001b[0;34m[\u001b[0m\u001b[0midx\u001b[0m\u001b[0;34m,\u001b[0m \u001b[0;36m1\u001b[0m\u001b[0;34m]\u001b[0m\u001b[0;34m)\u001b[0m\u001b[0;34m,\u001b[0m\u001b[0;34m\u001b[0m\u001b[0;34m\u001b[0m\u001b[0m\n\u001b[1;32m     76\u001b[0m                                      \u001b[0mint\u001b[0m\u001b[0;34m(\u001b[0m\u001b[0marr_col\u001b[0m\u001b[0;34m[\u001b[0m\u001b[0midx\u001b[0m\u001b[0;34m,\u001b[0m \u001b[0;36m0\u001b[0m\u001b[0;34m]\u001b[0m\u001b[0;34m)\u001b[0m\u001b[0;34m,\u001b[0m\u001b[0;34m\u001b[0m\u001b[0;34m\u001b[0m\u001b[0m\n",
      "\u001b[0;31mIndexError\u001b[0m: too many indices for array: array is 1-dimensional, but 2 were indexed"
     ]
    }
   ],
   "source": [
    "pos_list = [pos_arr, 0.5*pos_arr, 0.1*pos_arr]\n",
    "col_list = [col_arr, col_arr, col_arr]\n",
    "print('a: ', pos_list[0].shape, col_list[0].shape)\n",
    "pos_list, col_list = stitch_patterns(pos_list, col_list)\n",
    "print('b: ', pos_list[0].shape, col_list[0].shape)\n",
    "\n",
    "while(True):\n",
    "    for pos_arr, col_arr in zip(pos_list, col_list):\n",
    "        print(pos_arr.shape, col_arr.shape)\n",
    "        dacpos_batch(pos_arr, col_arr, dac)"
   ]
  },
  {
   "cell_type": "code",
   "execution_count": 7,
   "metadata": {},
   "outputs": [],
   "source": [
    "import cv2\n",
    "def draw_bitmap(arr_pos, arr_color, dims=(400,400)):\n",
    "    '''\n",
    "    Draws a pattern as if we were drawing it on a wall\n",
    "    '''\n",
    "    # Copy the arrays so we don't change them \n",
    "    arr_pos = arr_pos.copy()\n",
    "    arr_color = arr_color.copy()\n",
    "    # Map the positions\n",
    "    arr_pos[:,0] *= -1\n",
    "    arr_pos = (((arr_pos+1)/2)*dims).astype(np.int)\n",
    "    # Map the colors\n",
    "    arr_color = arr_color[:,::-1]\n",
    "    T = len(arr_pos)\n",
    "    img = np.zeros(dims+(3,))\n",
    "    # Draw points\n",
    "    for t in range(1, T):\n",
    "        cv2.line(img, arr_pos[t-1], arr_pos[t], color=arr_color[t-1], thickness=2)\n",
    "    cv2.imshow('img', img)\n",
    "    cv2.waitKey(0)\n",
    "    \n",
    "    "
   ]
  },
  {
   "cell_type": "code",
   "execution_count": 111,
   "metadata": {},
   "outputs": [
    {
     "data": {
      "text/plain": [
       "(12, 3)"
      ]
     },
     "execution_count": 111,
     "metadata": {},
     "output_type": "execute_result"
    }
   ],
   "source": [
    "np.zeros((12, 3)).shape"
   ]
  },
  {
   "cell_type": "code",
   "execution_count": 87,
   "metadata": {},
   "outputs": [],
   "source": []
  },
  {
   "cell_type": "code",
   "execution_count": 12,
   "metadata": {},
   "outputs": [],
   "source": [
    "\n",
    "def stitch_patterns(arr_pos_list, arr_color_list, angular_density=20):\n",
    "    #TODO - THIS METHOD NEEDS SOME WORK, CONCENTRIC CIRCLES GET MESSED UP \n",
    "    stitched_pos = []\n",
    "    stitched_color = []\n",
    "    for idx in range(len(arr_pos_list)):\n",
    "        stitched_pos.append(arr_pos_list[idx])\n",
    "        stitched_color.append(arr_color_list[idx])\n",
    "        # If we are between patterns, interpolate them\n",
    "        if(idx != len(arr_pos_list) -1):\n",
    "            dist = np.sqrt(np.sum(np.power(arr_pos_list[idx][:,-1]-arr_pos_list[idx+1][:,0], 2)))\n",
    "            num_gap_points = int(dist*angular_density)\n",
    "            pos_gap = np.linspace(arr_pos_list[idx][-1,:], arr_pos_list[idx+1][0,:], num_gap_points, dtype=np.float)\n",
    "            color_gap = np.zeros((num_gap_points, 3), dtype=np.float)\n",
    "            stitched_pos.append(pos_gap)\n",
    "            stitched_color.append(color_gap)\n",
    "    for arr_pos, arr_color in zip(stitched_pos, stitched_color):     \n",
    "        print(arr_pos.shape, arr_color.shape)\n",
    "    \n",
    "    stitched_pos = np.concatenate(stitched_pos)\n",
    "    stitched_color = np.concatenate(stitched_color)\n",
    "    print(stitched_pos.shape, stitched_color.shape)\n",
    "    return stitched_pos, stitched_color\n",
    "            \n",
    "    \n",
    "def make_circular(arr_pos, arr_color):\n",
    "    return np.concatenate([arr_pos, arr_pos[::-1, :]]), np.concatenate([arr_color, arr_color[::-1, :]])\n",
    "\n"
   ]
  },
  {
   "cell_type": "code",
   "execution_count": 15,
   "metadata": {},
   "outputs": [
    {
     "name": "stdout",
     "output_type": "stream",
     "text": [
      "0 -1\n",
      "1 0\n",
      "2 1\n",
      "(100, 2) (100, 3)\n",
      "(231, 2) (231, 3)\n",
      "(100, 2) (100, 3)\n",
      "(116, 2) (116, 3)\n",
      "(100, 2) (100, 3)\n",
      "(647, 2) (647, 3)\n",
      "(647, 2) (647, 3)\n",
      "(1294, 2) (1294, 3)\n",
      "making a frame with  1294\n"
     ]
    }
   ],
   "source": [
    "# Make three parallel lines\n",
    "T_line = 100\n",
    "\n",
    "arr_pos_list = []\n",
    "arr_color_list = []\n",
    "for c_idx, y in enumerate(range(-1, 2, 1)):\n",
    "    print(c_idx, y)\n",
    "    arr_pos_list.append(np.stack([np.linspace(-1, 1, T_line), y*np.ones(T_line)], axis=1))\n",
    "    arr_color = np.zeros((T_line, 3))\n",
    "    arr_color[:, c_idx] = np.linspace(0, 1, T_line)\n",
    "    arr_color_list.append(arr_color.copy())\n",
    "\n",
    "\n",
    "\n",
    "arr_pos, arr_color = stitch_patterns(arr_pos_list, arr_color_list)\n",
    "print(arr_pos.shape, arr_color.shape)\n",
    "\n",
    "arr_pos, arr_color = make_circular(arr_pos, arr_color)\n",
    "print(arr_pos.shape, arr_color.shape)\n",
    "\n",
    "dacpos_batch(arr_pos, arr_color, dac)"
   ]
  },
  {
   "cell_type": "code",
   "execution_count": 14,
   "metadata": {},
   "outputs": [
    {
     "name": "stdout",
     "output_type": "stream",
     "text": [
      "(200, 2) (200, 3)\n",
      "(0, 2) (0, 3)\n",
      "(200, 2) (200, 3)\n",
      "(0, 2) (0, 3)\n",
      "(200, 2) (200, 3)\n",
      "(600, 2) (600, 3)\n",
      "making a frame with  600\n"
     ]
    }
   ],
   "source": [
    "# Make three concentric circles\n",
    "T_line = 200\n",
    "theta_line = np.linspace(0, 2*np.pi, T_line)\n",
    "\n",
    "arr_pos_list = []\n",
    "arr_color_list = []\n",
    "for c_idx, scale in enumerate([0.9, 0.95, 1]):\n",
    "    arr_pos_list.append(np.stack([np.cos(theta_line), np.sin(theta_line)], axis=1)/scale)\n",
    "    arr_color = np.zeros((T_line, 3))\n",
    "    arr_color[:, c_idx] = np.linspace(0, 1, T_line)\n",
    "    arr_color_list.append(arr_color.copy())\n",
    "\n",
    "\n",
    "\n",
    "arr_pos, arr_color = stitch_patterns(arr_pos_list, arr_color_list, angular_density=0)\n",
    "\n",
    "dacpos_batch(arr_pos, arr_color, dac)"
   ]
  },
  {
   "cell_type": "code",
   "execution_count": null,
   "metadata": {},
   "outputs": [],
   "source": [
    "draw_bitmap(arr_pos, arr_color)"
   ]
  },
  {
   "cell_type": "code",
   "execution_count": 71,
   "metadata": {},
   "outputs": [
    {
     "name": "stdout",
     "output_type": "stream",
     "text": [
      "making a frame with  2000\n"
     ]
    }
   ],
   "source": [
    "# make a sine wave\n",
    "T_line = 1000\n",
    "freq = 4\n",
    "theta_line = np.linspace(0, 2*np.pi, T_line)\n",
    "arr_pos = np.stack([np.linspace(-1, 1, T_line), np.sin(freq*theta_line)], axis=1)\n",
    "arr_color = np.ones((T, 3))\n",
    "arr_color[:, 0:2] = 0\n",
    "arr_pos, arr_color = make_circular(arr_pos, arr_color)\n",
    "dacpos_batch(arr_pos, arr_color, dac)"
   ]
  },
  {
   "cell_type": "code",
   "execution_count": null,
   "metadata": {},
   "outputs": [],
   "source": []
  }
 ],
 "metadata": {
  "kernelspec": {
   "display_name": "Python 3",
   "language": "python",
   "name": "python3"
  },
  "language_info": {
   "codemirror_mode": {
    "name": "ipython",
    "version": 3
   },
   "file_extension": ".py",
   "mimetype": "text/x-python",
   "name": "python",
   "nbconvert_exporter": "python",
   "pygments_lexer": "ipython3",
   "version": "3.8.5"
  }
 },
 "nbformat": 4,
 "nbformat_minor": 4
}
