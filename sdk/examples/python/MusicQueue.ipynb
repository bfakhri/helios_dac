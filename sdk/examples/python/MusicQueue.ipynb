{
 "cells": [
  {
   "cell_type": "code",
   "execution_count": null,
   "metadata": {},
   "outputs": [],
   "source": [
    "import laser_lib\n",
    "import numpy as np\n",
    "import math\n",
    "import time\n",
    "import cv2\n",
    "import pyaudio  \n",
    "import wave  \n",
    "import threading\n",
    "import time"
   ]
  },
  {
   "cell_type": "code",
   "execution_count": null,
   "metadata": {},
   "outputs": [],
   "source": [
    "# Define the queue runner class\n",
    "class QueueRunner:\n",
    "    def __init__(self, laser_queue):\n",
    "        self.cur_pattern = None\n",
    "        self.laser_queue = laser_queue\n",
    "        self.stopped = True\n",
    "        # Start the polling thread\n",
    "        poll_thread = threading.Thread(target=self.run_queue)\n",
    "        poll_thread.start()\n",
    "        \n",
    "    def run_queue(self):\n",
    "        while(True):\n",
    "            if(self.cur_pattern is not None):\n",
    "                self.stopped = False\n",
    "                #print('Running queue...', end='\\r')\n",
    "                for arr_pos, arr_col in self.cur_pattern:\n",
    "                    queue.submit(arr_pos, arr_col)\n",
    "                    if(self.cur_pattern is None):\n",
    "                        break\n",
    "            else:\n",
    "                #print('Queue Stopped...', end='\\r')\n",
    "                self.stopped = True\n",
    "    \n",
    "    def set_pattern(self, pattern):\n",
    "        # Stop the pattern before setting a new one\n",
    "        self.stop_pattern()\n",
    "        # Set the new pattern\n",
    "        self.cur_pattern = pattern\n",
    "        # Don't return until the pattern has started\n",
    "        # TODO - maybe we don't have to make this blocking\n",
    "        while(self.stopped):\n",
    "            continue\n",
    "    \n",
    "    def stop_pattern(self):\n",
    "        self.cur_pattern = None\n",
    "        # Wait until the thread acknowledges the stop\n",
    "        # TODO - maybe we don't have to make this blocking\n",
    "        while(not self.stopped):\n",
    "            continue\n",
    "    \n",
    "\n",
    "def p1(T):\n",
    "    theta = np.linspace(0, 2*np.pi, T)\n",
    "    arr_pos = np.zeros((T, 2))\n",
    "    arr_col = np.ones((T, 3))\n",
    "    arr_pos[:, 0] = np.sin(theta)\n",
    "    arr_pos[:, 1] = np.cos(theta)\n",
    "    while(True):\n",
    "        yield arr_pos, arr_col\n",
    "    \n",
    "    \n",
    "            \n",
    "        "
   ]
  },
  {
   "cell_type": "code",
   "execution_count": null,
   "metadata": {},
   "outputs": [],
   "source": [
    "queue = laser_lib.DacQueue()\n",
    "runner = QueueRunner(queue)"
   ]
  },
  {
   "cell_type": "code",
   "execution_count": null,
   "metadata": {},
   "outputs": [],
   "source": [
    "#define stream chunk size\n",
    "chunk = 512  \n",
    "#open a wav format music  \n",
    "f = wave.open(r\"Villain.wav\",\"rb\")  \n",
    "# Set to further into the file\n",
    "f.setpos(0)\n",
    "#instantiate PyAudio  \n",
    "p = pyaudio.PyAudio()  \n",
    "#open stream  \n",
    "stream = p.open(format = p.get_format_from_width(f.getsampwidth()),  \n",
    "                channels = f.getnchannels(),  \n",
    "                rate = f.getframerate(),  \n",
    "                output = True)  \n",
    "#read data  A\n",
    "data = f.readframes(chunk)  \n",
    "\n",
    "# list of patterns of type {'start_time', 'end_time', pattern}\n",
    "sequence_queue = []\n",
    "# make some random patterns\n",
    "#for i in range(0, 100, 3):\n",
    "#    start = np.random.rand(1)*i\n",
    "#    stop = start + 1\n",
    "#    pattern_queue += [{'start_time': start, 'stop_time': stop, 'sequence': p1}]\n",
    "#sequence_queue += [{'start_time': 0, 'stop_time': 1, 'sequence': p1}]\n",
    "#sequence_queue += [{'start_time': 3, 'stop_time': 5, 'sequence': p1}]\n",
    "#sequence_queue += [{'start_time': 10, 'stop_time': 14, 'sequence': p1}]\n",
    "#sequence_queue += [{'start_time': 20, 'stop_time': 30, 'sequence': p1}]\n",
    "song_len = 60*3\n",
    "for i in range(0, 180, 1):\n",
    "    sequence_queue += [{'start_time': i, 'stop_time': i+0.5, 'sequence': p1}]\n",
    "\n",
    "\n",
    "# Define the start/stop times of patterns\n",
    "times_arr = np.zeros((len(sequence_queue), 2))\n",
    "for idx, seq in enumerate(sequence_queue):\n",
    "    times_arr[idx, :] = np.array([seq['start_time'], seq['stop_time']])\n",
    "# Tracks which sequences have been run already\n",
    "ran_arr = np.zeros((len(sequence_queue))).astype(np.bool)\n",
    "\n",
    "sample_count = 0\n",
    "\n",
    "all_idxs = np.arange(len(sequence_queue))\n",
    "framerate = f.getframerate()\n",
    "while(data):  \n",
    "    # Write to soundcard\n",
    "    stream.write(data)  \n",
    "    # Grab the next chunk of music\n",
    "    data = f.readframes(chunk)  \n",
    "    cur_time = sample_count/framerate\n",
    "    # Find a pattern to display\n",
    "    \n",
    "    # Find out if a pattern should be playing\n",
    "    valid_patterns = np.logical_and(cur_time >= times_arr[:, 0], cur_time < times_arr[:, 1])\n",
    "    valid_idxs = all_idxs[valid_patterns]\n",
    "    if(len(valid_idxs) > 0):\n",
    "        # Run the pattern if it hasn't been run before\n",
    "        if(not ran_arr[valid_idxs[0]]):\n",
    "            #print(\"val idxs\", valid_idxs)\n",
    "            runner.set_pattern(sequence_queue[valid_idxs[0]]['sequence'](500))\n",
    "            ran_arr[valid_idxs[0]] = True\n",
    "    else:\n",
    "        runner.stop_pattern()\n",
    "\n",
    "    print(cur_time, end='\\r')\n",
    "    sample_count += chunk\n",
    "    \n",
    "    # Turn into numpy array\n",
    "    #data_np = np.frombuffer(data, dtype=np.int16).astype(np.float32)\n",
    "    # Reshape into two channels\n",
    "    #data_np = np.reshape(data_np, (-1, 2))\n",
    "\n",
    "#stop stream  \n",
    "stream.stop_stream()  \n",
    "stream.close()  \n",
    "\n",
    "#close PyAudio  \n",
    "p.terminate()  "
   ]
  },
  {
   "cell_type": "code",
   "execution_count": null,
   "metadata": {},
   "outputs": [],
   "source": [
    "len(sequence_queue)"
   ]
  },
  {
   "cell_type": "code",
   "execution_count": null,
   "metadata": {},
   "outputs": [],
   "source": [
    "f.getframerate()/chunk"
   ]
  },
  {
   "cell_type": "code",
   "execution_count": null,
   "metadata": {},
   "outputs": [],
   "source": [
    "runner = QueueRunner(queue)"
   ]
  },
  {
   "cell_type": "code",
   "execution_count": null,
   "metadata": {},
   "outputs": [],
   "source": [
    "runner.set_pattern(p1(500))"
   ]
  },
  {
   "cell_type": "code",
   "execution_count": null,
   "metadata": {},
   "outputs": [],
   "source": [
    "runner.stop_pattern()"
   ]
  },
  {
   "cell_type": "code",
   "execution_count": null,
   "metadata": {},
   "outputs": [],
   "source": [
    "for arr_pos, arr_col in p1(500):\n",
    "#arr_pos, arr_col = next(p1(500))\n",
    "#while(True):\n",
    "    queue.submit(arr_pos, arr_col)    "
   ]
  },
  {
   "cell_type": "code",
   "execution_count": null,
   "metadata": {},
   "outputs": [],
   "source": [
    "for i in range(1000):\n",
    "    time.sleep(0.04)\n",
    "    runner.set_pattern(p1(500))\n",
    "    time.sleep(0.04)\n",
    "    runner.stop_pattern()"
   ]
  },
  {
   "cell_type": "code",
   "execution_count": null,
   "metadata": {},
   "outputs": [],
   "source": [
    "music_data = np.zeros((T, 2))\n",
    "t = 0\n",
    "chunk_size = 1/2 sec\n",
    "\n",
    "runner = Runner()\n",
    "while(t < T):\n",
    "    data = music_data[t:t+chunk_size]\n",
    "\n",
    "    play(data)\n",
    "    \n",
    "    # non-blocking call\n",
    "    runner.changepattern()\n",
    "    \n",
    "    t += chunk_size"
   ]
  },
  {
   "cell_type": "code",
   "execution_count": null,
   "metadata": {},
   "outputs": [],
   "source": []
  }
 ],
 "metadata": {
  "kernelspec": {
   "display_name": "Python 3",
   "language": "python",
   "name": "python3"
  },
  "language_info": {
   "codemirror_mode": {
    "name": "ipython",
    "version": 3
   },
   "file_extension": ".py",
   "mimetype": "text/x-python",
   "name": "python",
   "nbconvert_exporter": "python",
   "pygments_lexer": "ipython3",
   "version": "3.8.5"
  }
 },
 "nbformat": 4,
 "nbformat_minor": 4
}
