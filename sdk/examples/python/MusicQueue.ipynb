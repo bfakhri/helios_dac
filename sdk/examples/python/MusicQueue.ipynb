{
 "cells": [
  {
   "cell_type": "code",
   "execution_count": 1,
   "metadata": {},
   "outputs": [],
   "source": [
    "import laser_lib\n",
    "import numpy as np\n",
    "import math\n",
    "import time\n",
    "import cv2\n",
    "import pyaudio  \n",
    "import wave  \n",
    "import threading\n",
    "import time"
   ]
  },
  {
   "cell_type": "code",
   "execution_count": 2,
   "metadata": {},
   "outputs": [],
   "source": [
    "# Define the queue runner class\n",
    "class QueueRunner:\n",
    "    def __init__(self, dac_queue):\n",
    "        self.cur_pattern = None\n",
    "        self.dac_queue = dac_queue\n",
    "        self.sequence_queue = []\n",
    "        # Start the polling thread\n",
    "        poll_thread = threading.Thread(target=self.run_queue)\n",
    "        poll_thread.start()\n",
    "        \n",
    "    def run_queue(self):\n",
    "        while(True):\n",
    "            if(len(self.sequence_queue) > 0):\n",
    "                print('Starting...')\n",
    "                time_seq_start = time.time()\n",
    "                for arr_pos, arr_col in self.sequence_queue[0]['sequence'](500):\n",
    "                    queue.submit(arr_pos, arr_col)\n",
    "                    \n",
    "                    # Detect that the sequence has expired and stop displaying\n",
    "                    if((time.time() - time_seq_start) > \n",
    "                       (self.sequence_queue[0]['stop_time'] - self.sequence_queue[0]['start_time'])):\n",
    "                        self.sequence_queue.pop(0)\n",
    "                        print('Expired...')\n",
    "                        break\n",
    "                       \n",
    "                    # Detect that a new pattern has arrive \n",
    "                    if(len(self.sequence_queue) > 1):\n",
    "                        self.sequence_queue.pop(0)\n",
    "                        print('Replaced...')\n",
    "                        break\n",
    "    \n",
    "    def start_sequence(self, sequence):\n",
    "        self.sequence_queue.append(sequence)\n",
    "        \n",
    "    \n",
    "\n",
    "def p1(T):\n",
    "    theta = np.linspace(0, 2*np.pi, T)\n",
    "    arr_pos = np.zeros((T, 2))\n",
    "    arr_col = np.ones((T, 3))\n",
    "    arr_pos[:, 0] = np.sin(theta)\n",
    "    arr_pos[:, 1] = np.cos(theta)\n",
    "    while(True):\n",
    "        yield arr_pos, arr_col\n",
    "    \n",
    "    \n",
    "            \n",
    "        "
   ]
  },
  {
   "cell_type": "code",
   "execution_count": 3,
   "metadata": {},
   "outputs": [
    {
     "name": "stdout",
     "output_type": "stream",
     "text": [
      "Found  1 Helios DACs\n"
     ]
    }
   ],
   "source": [
    "queue = laser_lib.DacQueue()\n",
    "runner = QueueRunner(queue)"
   ]
  },
  {
   "cell_type": "code",
   "execution_count": 10,
   "metadata": {},
   "outputs": [
    {
     "name": "stdout",
     "output_type": "stream",
     "text": [
      "playing sound using simpleaudio\n",
      "Starting...\n",
      "Expired...\n",
      "Starting...\n",
      "Expired...\n",
      "Starting...\n",
      "Expired...\n",
      "Starting...\n",
      "Expired...\n",
      "Starting...\n",
      "Expired...\n",
      "Starting...\n",
      "Expired...\n",
      "Starting...\n",
      "Expired...\n",
      "Starting...\n",
      "Expired...\n",
      "Starting...\n",
      "Expired...\n",
      "Starting...\n",
      "Expired...\n",
      "Starting...\n",
      "Expired...\n",
      "Starting...\n",
      "Expired...\n",
      "Starting...\n",
      "Expired...\n",
      "Starting...\n",
      "Expired...\n"
     ]
    },
    {
     "ename": "IndexError",
     "evalue": "list index out of range",
     "output_type": "error",
     "traceback": [
      "\u001b[0;31m---------------------------------------------------------------------------\u001b[0m",
      "\u001b[0;31mIndexError\u001b[0m                                Traceback (most recent call last)",
      "\u001b[0;32m<ipython-input-10-758236233302>\u001b[0m in \u001b[0;36m<module>\u001b[0;34m\u001b[0m\n\u001b[1;32m     31\u001b[0m \u001b[0;34m\u001b[0m\u001b[0m\n\u001b[1;32m     32\u001b[0m     \u001b[0;31m# Find a pattern to display\u001b[0m\u001b[0;34m\u001b[0m\u001b[0;34m\u001b[0m\u001b[0;34m\u001b[0m\u001b[0m\n\u001b[0;32m---> 33\u001b[0;31m     \u001b[0;32mif\u001b[0m\u001b[0;34m(\u001b[0m\u001b[0mtime\u001b[0m\u001b[0;34m.\u001b[0m\u001b[0mtime\u001b[0m\u001b[0;34m(\u001b[0m\u001b[0;34m)\u001b[0m \u001b[0;34m-\u001b[0m \u001b[0minit_time\u001b[0m \u001b[0;34m>\u001b[0m \u001b[0msequence_queue\u001b[0m\u001b[0;34m[\u001b[0m\u001b[0;36m0\u001b[0m\u001b[0;34m]\u001b[0m\u001b[0;34m[\u001b[0m\u001b[0;34m'start_time'\u001b[0m\u001b[0;34m]\u001b[0m\u001b[0;34m)\u001b[0m\u001b[0;34m:\u001b[0m\u001b[0;34m\u001b[0m\u001b[0;34m\u001b[0m\u001b[0m\n\u001b[0m\u001b[1;32m     34\u001b[0m         \u001b[0mrunner\u001b[0m\u001b[0;34m.\u001b[0m\u001b[0mstart_sequence\u001b[0m\u001b[0;34m(\u001b[0m\u001b[0msequence_queue\u001b[0m\u001b[0;34m.\u001b[0m\u001b[0mpop\u001b[0m\u001b[0;34m(\u001b[0m\u001b[0;36m0\u001b[0m\u001b[0;34m)\u001b[0m\u001b[0;34m)\u001b[0m\u001b[0;34m\u001b[0m\u001b[0;34m\u001b[0m\u001b[0m\n\u001b[1;32m     35\u001b[0m \u001b[0;34m\u001b[0m\u001b[0m\n",
      "\u001b[0;31mIndexError\u001b[0m: list index out of range"
     ]
    },
    {
     "name": "stdout",
     "output_type": "stream",
     "text": [
      "Starting...\n",
      "Expired...\n"
     ]
    }
   ],
   "source": [
    "import simpleaudio as sa\n",
    "  \n",
    "# define an object to play\n",
    "wave_object = sa.WaveObject.from_wave_file('Villain.wav')\n",
    "\n",
    "# Define the sequence to play\n",
    "sequence_queue = []\n",
    "sequence_queue += [{'start_time': 0.385, 'stop_time': 0.1, 'sequence': p1}]\n",
    "sequence_queue += [{'start_time': 3.383, 'stop_time': 0.1, 'sequence': p1}]\n",
    "sequence_queue += [{'start_time': 3.947, 'stop_time': 0.1, 'sequence': p1}]\n",
    "sequence_queue += [{'start_time': 4.493, 'stop_time': 0.1, 'sequence': p1}]\n",
    "sequence_queue += [{'start_time': 6.000, 'stop_time': 0.1, 'sequence': p1}]\n",
    "sequence_queue += [{'start_time': 6.190, 'stop_time': 0.1, 'sequence': p1}]\n",
    "sequence_queue += [{'start_time': 6.370, 'stop_time': 0.1, 'sequence': p1}]\n",
    "sequence_queue += [{'start_time': 9.385, 'stop_time': 0.1, 'sequence': p1}]\n",
    "sequence_queue += [{'start_time': 9.383, 'stop_time': 0.1, 'sequence': p1}]\n",
    "sequence_queue += [{'start_time': 9.947, 'stop_time': 0.1, 'sequence': p1}]\n",
    "sequence_queue += [{'start_time': 12.493, 'stop_time': 0.1, 'sequence': p1}]\n",
    "sequence_queue += [{'start_time': 12.000, 'stop_time': 0.1, 'sequence': p1}]\n",
    "sequence_queue += [{'start_time': 12.190, 'stop_time': 0.1, 'sequence': p1}]\n",
    "sequence_queue += [{'start_time': 15.370, 'stop_time': 0.1, 'sequence': p1}]\n",
    "sequence_queue += [{'start_time': 20, 'stop_time': 30, 'sequence': p1}]\n",
    "\n",
    "# define an object to control the play\n",
    "play_object = wave_object.play()\n",
    "\n",
    "init_time = time.time()\n",
    "while(play_object.is_playing()):  \n",
    "    if(len(sequence_queue) < 1):\n",
    "        break\n",
    "    # Find a pattern to display\n",
    "    if(time.time() - init_time > sequence_queue[0]['start_time']):\n",
    "        runner.start_sequence(sequence_queue.pop(0))\n",
    "    \n",
    "\n",
    "    # Turn into numpy array\n",
    "    #data_np = np.frombuffer(data, dtype=np.int16).astype(np.float32)\n",
    "    # Reshape into two channels\n",
    "    #data_np = np.reshape(data_np, (-1, 2))\n",
    "\n",
    "play_object.wait_done()"
   ]
  },
  {
   "cell_type": "code",
   "execution_count": 11,
   "metadata": {},
   "outputs": [],
   "source": [
    "play_object.stop()"
   ]
  },
  {
   "cell_type": "code",
   "execution_count": null,
   "metadata": {},
   "outputs": [],
   "source": []
  },
  {
   "cell_type": "code",
   "execution_count": null,
   "metadata": {},
   "outputs": [],
   "source": []
  },
  {
   "cell_type": "code",
   "execution_count": null,
   "metadata": {},
   "outputs": [],
   "source": []
  },
  {
   "cell_type": "code",
   "execution_count": null,
   "metadata": {},
   "outputs": [],
   "source": []
  },
  {
   "cell_type": "code",
   "execution_count": null,
   "metadata": {},
   "outputs": [],
   "source": []
  },
  {
   "cell_type": "code",
   "execution_count": null,
   "metadata": {},
   "outputs": [],
   "source": []
  },
  {
   "cell_type": "code",
   "execution_count": null,
   "metadata": {},
   "outputs": [],
   "source": []
  },
  {
   "cell_type": "code",
   "execution_count": null,
   "metadata": {},
   "outputs": [],
   "source": []
  },
  {
   "cell_type": "code",
   "execution_count": null,
   "metadata": {},
   "outputs": [],
   "source": []
  },
  {
   "cell_type": "code",
   "execution_count": null,
   "metadata": {},
   "outputs": [],
   "source": []
  },
  {
   "cell_type": "code",
   "execution_count": null,
   "metadata": {},
   "outputs": [],
   "source": []
  },
  {
   "cell_type": "code",
   "execution_count": null,
   "metadata": {},
   "outputs": [],
   "source": []
  },
  {
   "cell_type": "code",
   "execution_count": null,
   "metadata": {},
   "outputs": [],
   "source": []
  },
  {
   "cell_type": "code",
   "execution_count": null,
   "metadata": {},
   "outputs": [],
   "source": []
  },
  {
   "cell_type": "code",
   "execution_count": null,
   "metadata": {},
   "outputs": [],
   "source": []
  },
  {
   "cell_type": "code",
   "execution_count": null,
   "metadata": {},
   "outputs": [],
   "source": []
  },
  {
   "cell_type": "code",
   "execution_count": null,
   "metadata": {},
   "outputs": [],
   "source": []
  }
 ],
 "metadata": {
  "kernelspec": {
   "display_name": "Python 3",
   "language": "python",
   "name": "python3"
  },
  "language_info": {
   "codemirror_mode": {
    "name": "ipython",
    "version": 3
   },
   "file_extension": ".py",
   "mimetype": "text/x-python",
   "name": "python",
   "nbconvert_exporter": "python",
   "pygments_lexer": "ipython3",
   "version": "3.8.5"
  }
 },
 "nbformat": 4,
 "nbformat_minor": 4
}
